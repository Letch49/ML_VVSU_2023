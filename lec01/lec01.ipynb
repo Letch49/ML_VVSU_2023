{
 "cells": [
  {
   "cell_type": "code",
   "execution_count": null,
   "id": "e849bb0e-612f-4db2-b645-583fba51be59",
   "metadata": {
    "scrolled": true,
    "tags": []
   },
   "outputs": [],
   "source": [
    "# preinstall libs\n",
    "!pip3 install --upgrade pip\n",
    "!pip3 install pandas==1.5.2\n",
    "!pip3 install scikit-learn==1.2.0"
   ]
  },
  {
   "cell_type": "markdown",
   "id": "9d927515-641d-4dff-b7c8-b8160dbf9b0e",
   "metadata": {
    "tags": []
   },
   "source": [
    "### Типы данных, часто используемых в наборах данных \n",
    "\n",
    "**Массив numpy.ndarray**"
   ]
  },
  {
   "cell_type": "markdown",
   "id": "0eba0f9b",
   "metadata": {},
   "source": [
    "Большинство наборов данных для машинного обучения задаются этим типом массива (вектор, матрица, многомерный тензор)\n",
    "\n",
    "Рассмотрим в качестве примера набора данных \"Ирисы\""
   ]
  },
  {
   "cell_type": "code",
   "execution_count": null,
   "id": "d434065a",
   "metadata": {
    "scrolled": true
   },
   "outputs": [],
   "source": [
    "from sklearn.datasets import load_iris\n",
    "from pprint import pprint\n",
    "iris = load_iris()\n",
    "pprint(iris)"
   ]
  },
  {
   "cell_type": "markdown",
   "id": "62b49894",
   "metadata": {},
   "source": [
    "Пока оставим тип самой всей структуры iris и способ доступа к её полям. Рассмотрим это позже"
   ]
  },
  {
   "cell_type": "code",
   "execution_count": null,
   "id": "6fbb078e",
   "metadata": {},
   "outputs": [],
   "source": [
    "# type(iris.data)\n",
    "print(\"Тип объекта, содержащего таблицу с данными: \", type(iris[\"data\"]))"
   ]
  },
  {
   "cell_type": "markdown",
   "id": "02dac88c",
   "metadata": {},
   "source": [
    "Таким образом, данные заданны с помощью массива **numpy.ndarray**\n",
    "\n",
    "В синтаксисе языка Python существует тип данных \"список\" (list), который часто принимается за массив"
   ]
  },
  {
   "cell_type": "code",
   "execution_count": null,
   "id": "b7843c92",
   "metadata": {},
   "outputs": [],
   "source": [
    "import numpy as np"
   ]
  },
  {
   "cell_type": "code",
   "execution_count": null,
   "id": "ec2ad6cd",
   "metadata": {},
   "outputs": [],
   "source": [
    "#\n",
    "#список в Python\n",
    "#непосредственная инициализация вручную\n",
    "#\n",
    "python_list = [1,2,3,5,8,13,21,34,55]\n",
    "print(python_list)"
   ]
  },
  {
   "cell_type": "markdown",
   "id": "219ff6e4",
   "metadata": {},
   "source": [
    "Тип диапазона (**range**) позволяет порождать список в виде последовательности"
   ]
  },
  {
   "cell_type": "code",
   "execution_count": null,
   "id": "4d306fd6",
   "metadata": {},
   "outputs": [],
   "source": [
    "print( range(10) )\n",
    "range_list = list( range(10) )\n",
    "print( range_list )\n",
    "range_list = list( range(1, 5) )\n",
    "print( range_list )\n",
    "range_list = list( range(1, 10, 2) )\n",
    "print( range_list )"
   ]
  },
  {
   "cell_type": "markdown",
   "id": "fce1be1c",
   "metadata": {},
   "source": [
    "Инициализация списка в цикле (возможность вычисления и использования функций)"
   ]
  },
  {
   "cell_type": "code",
   "execution_count": null,
   "id": "f29ca569",
   "metadata": {},
   "outputs": [],
   "source": [
    "list_from_loop = [2 * i for i in range(1, 11)]\n",
    "print( list_from_loop )"
   ]
  },
  {
   "cell_type": "markdown",
   "id": "6f8de0a2",
   "metadata": {},
   "source": [
    "Массив **numpy.ndarray** обычно создается из списка Python:"
   ]
  },
  {
   "cell_type": "code",
   "execution_count": null,
   "id": "6460b8c8",
   "metadata": {},
   "outputs": [],
   "source": [
    "#\n",
    "#массив numpy.array\n",
    "#\n",
    "np_array = np.array(python_list)\n",
    "print(np_array)\n",
    "\n",
    "np_array_direct = np.array( [10, 20, 30, 40] )\n",
    "print(np_array_direct)"
   ]
  },
  {
   "cell_type": "markdown",
   "id": "205b6c5a",
   "metadata": {},
   "source": [
    "Узнать тип переменной можно встроенной Python функцией **type()** :"
   ]
  },
  {
   "cell_type": "code",
   "execution_count": null,
   "id": "1938144c",
   "metadata": {},
   "outputs": [],
   "source": [
    "print( \"Тип \\\"массива\\\" pythonList: \", type(python_list) )\n",
    "print( \"Тип масссива npArray: \", type(np_array) )"
   ]
  },
  {
   "cell_type": "markdown",
   "id": "b45225c6",
   "metadata": {},
   "source": [
    "Доступ к элементам массива:"
   ]
  },
  {
   "cell_type": "code",
   "execution_count": null,
   "id": "370f4fce",
   "metadata": {},
   "outputs": [],
   "source": [
    "print( \"Длина массива:\", len(np_array) )\n",
    "print( np_array[0] )\n",
    "print( np_array[-1] )\n",
    "print( np_array[len(np_array) - 1] )\n",
    "print( np_array[:4] )\n",
    "print( np_array[2:4])\n",
    "print( np_array[3:] )\n"
   ]
  },
  {
   "cell_type": "markdown",
   "id": "ad57ab14",
   "metadata": {},
   "source": [
    "Функции создания массива **numpy.ndarray** с одинаковыми значениями"
   ]
  },
  {
   "cell_type": "code",
   "execution_count": null,
   "id": "f8cd1123",
   "metadata": {},
   "outputs": [],
   "source": [
    "#\n",
    "#заполнить массив единицами\n",
    "#\n",
    "np_array = np.ones(5)\n",
    "print( np_array )\n",
    "\n",
    "#\n",
    "#заполнить массив нулями\n",
    "#\n",
    "np_array = np.zeros(10)\n",
    "print( np_array )\n",
    "\n",
    "#\n",
    "#заполнить массив определенным числом\n",
    "#\n",
    "np_array = np.full(5, 3.14)\n",
    "print( np_array )\n",
    "\n"
   ]
  },
  {
   "cell_type": "markdown",
   "id": "06282bd0",
   "metadata": {},
   "source": [
    "Свойства конфигурации массивов **numpy.ndarray**:"
   ]
  },
  {
   "cell_type": "code",
   "execution_count": null,
   "id": "8d1f89a8",
   "metadata": {},
   "outputs": [],
   "source": [
    "print(\"Массив: \", np_array)\n",
    "print(\"Свойство ndim: \", np_array.ndim)\n",
    "print(\"Свойство shape: \", np_array.shape) \n",
    "print(\"Свойство dtype: \", np_array.dtype) \n",
    " "
   ]
  },
  {
   "cell_type": "markdown",
   "id": "9ef041a3",
   "metadata": {},
   "source": [
    "Многомерные массивы:"
   ]
  },
  {
   "cell_type": "code",
   "execution_count": null,
   "id": "c7b0c992",
   "metadata": {},
   "outputs": [],
   "source": [
    "\n",
    "np_array_2d = np.array([\n",
    "                        [1,2,3],\n",
    "                        [4,5,6]\n",
    "                    ])\n",
    "print(\"Матрица, построеннаяя из Python list of lists:\")\n",
    "print(np_array_2d)\n",
    "#\n",
    "#заполнить двумерный массив numpy.ndarray определенным числом (или списком)\n",
    "#\n",
    "np_array_2d = np.full( (2,2), 2.7 )\n",
    "print(\"Матрица, построенная функцией full():\")\n",
    "print( np_array_2d )\n",
    "\n",
    "print( \"Форма 2-мерного массива: \", np_array_2d.shape )\n",
    "print( \"Размерность 2-мерного массива: \", np_array_2d.ndim )\n",
    "\n",
    "\n",
    "np_array_3d = np.array( [\n",
    "                        [\n",
    "                            [11,12,13],\n",
    "                            [21,22,23],\n",
    "                            [31,32,33]\n",
    "                        ]\n",
    "                      ] )\n",
    "print(\"3D массив: \")\n",
    "print(np_array_3d)\n",
    "print( \"Форма трехмерного массива:\", np_array_3d.shape )\n",
    "print( \"Размерность трехмерного массива:\", np_array_3d.ndim )"
   ]
  },
  {
   "cell_type": "markdown",
   "id": "a887f752",
   "metadata": {},
   "source": [
    "Понятие оси (**axis**) в многомерных массивах\n",
    "\n",
    "Понятие осей используется в операциях типа суммирования, min, max в многомерных массивах"
   ]
  },
  {
   "cell_type": "code",
   "execution_count": null,
   "id": "304116ed",
   "metadata": {},
   "outputs": [],
   "source": [
    "arr = np.array([[1,2,3],[3,2,1]])\n",
    "#\n",
    "#выполним суммирование строк матрицы (по первому измерению, указывающему на вложенный массив)\n",
    "#\n",
    "row_sum = np.sum(arr, axis = 0)\n",
    "row_sum"
   ]
  },
  {
   "cell_type": "markdown",
   "id": "bb297c1a",
   "metadata": {},
   "source": [
    "По умолчанию обычно axis = 0 (однако лучше это уточнять в документации)"
   ]
  },
  {
   "cell_type": "code",
   "execution_count": null,
   "id": "657f1412",
   "metadata": {},
   "outputs": [],
   "source": [
    "#\n",
    "#выполним суммирование по столбцам\n",
    "#\n",
    "col_sum = np.sum(arr, axis = 1)\n",
    "col_sum"
   ]
  },
  {
   "cell_type": "markdown",
   "id": "f4638cb9",
   "metadata": {},
   "source": [
    "Посмотрим работу с осями в трехмерной матрице"
   ]
  },
  {
   "cell_type": "code",
   "execution_count": null,
   "id": "0db7bab0",
   "metadata": {},
   "outputs": [],
   "source": [
    "arr = np.array([[[111,112,113,114],[121,122,123,124],[131,132,133,134]],\n",
    "                [[211,212,213,214],[221,222,223,224],[231,232,233,234]]\n",
    "               ])\n",
    "print( \"arr.shape = \", arr.shape )\n",
    "print( \"Сумма элементов (матриц) по первому измерению axis = 0\\n\", np.sum(arr, axis = 0))\n",
    "print( \"Максимум элементов в направлении первого измерения axis = 0\\n\", np.max(arr, axis = 0))\n",
    "print( \"-----------------------------------------------------------\" )\n",
    "print( \"Максимум элементов в направлении второго измерения axis = 1\\n\", np.max(arr, axis = 1))\n",
    "print( \"Максимум элементов в направлении второго измерения axis = 1\\n\", np.max(arr, axis = 1))\n",
    "print( \"-----------------------------------------------------------\" )\n",
    "print( \"Максимум элементов в направлении третьего измерения axis = 2\\n\", np.max(arr, axis = 2))\n",
    "print( \"Максимум элементов в направлении третьего измерения axis = 2\\n\", np.max(arr, axis = 2))"
   ]
  },
  {
   "cell_type": "markdown",
   "id": "fc2d1957",
   "metadata": {},
   "source": [
    "Генерация случайных последовательностей в **numpy**"
   ]
  },
  {
   "cell_type": "code",
   "execution_count": null,
   "id": "6ff15e99",
   "metadata": {},
   "outputs": [],
   "source": [
    "#\n",
    "#равномерное распределение (uniform): random.uniform(low=0.0, high=1.0, size=None)\n",
    "#одномерный массив\n",
    "#\n",
    "uniform_arr = np.random.uniform(1, 100, 10)\n",
    "print(\"Вектор равномерно распределенных чисел от 1 до 100 :\\n\", uniform_arr)\n",
    "print(\"----------------------------------------------------\")\n",
    "uniform_mat = np.random.uniform(0, 1, (3,3))\n",
    "print(\"Матрица 3x3 равномерно распределенных чисел от 0 до 1 :\\n\", uniform_mat)\n",
    "print(\"----------------------------------------------------\")\n",
    "#\n",
    "#нормальное распределение (normal) random.normal(loc=0.0, scale=1.0, size=None)\n",
    "#\n",
    "normal_arr = np.random.normal(5.0, 2.7, 10)\n",
    "print(\"Вектор 10 нормально распределенных чисел с мат.ожиданием 5 и дисперсией 2.7 :\\n\", normal_arr)"
   ]
  },
  {
   "cell_type": "markdown",
   "id": "d06e3f5f",
   "metadata": {},
   "source": [
    "Обеспечение повторяемости псевдослучайных чисел (**numpy.random.seed**)\n",
    "\n",
    "*! функция seed() считается устаревшей и рекомендуется использовать* ***numpy.random.Generator***"
   ]
  },
  {
   "cell_type": "code",
   "execution_count": null,
   "id": "9df325cb",
   "metadata": {},
   "outputs": [],
   "source": [
    "def test_rand_no_seed():\n",
    "    print( np.random.uniform(0, 1, 5) )\n",
    "\n",
    "def test_rand_with_seed(s: int):\n",
    "    np.random.seed(s)\n",
    "    print( np.random.uniform(0, 1, 5) )\n",
    "\n",
    "print(\"Генерируем случайный вектор: \")    \n",
    "test_rand_no_seed()\n",
    "print(\"Еще раз генерируем случайный вектор: \")  \n",
    "test_rand_no_seed()\n",
    "print(\"-----------------------------------\")\n",
    "print(\"Генерируем случайный вектор с параметром генератора: \")    \n",
    "test_rand_with_seed(44)\n",
    "print(\"Еще раз генерируем случайный вектор с параметром генератора:: \")  \n",
    "test_rand_with_seed(44)\n"
   ]
  },
  {
   "cell_type": "markdown",
   "id": "e047ca0b",
   "metadata": {},
   "source": [
    "Еще одна структура данных в Pyhhon, к которой обещали вернуться в самом начале - **Словарь (Dictionary)** \n",
    "\n",
    "Посмотрим на структуру данных набора **sklearn.datasets.iris**"
   ]
  },
  {
   "cell_type": "code",
   "execution_count": null,
   "id": "ece5ed5f",
   "metadata": {},
   "outputs": [],
   "source": [
    "iris"
   ]
  },
  {
   "cell_type": "code",
   "execution_count": null,
   "id": "7422e16f",
   "metadata": {},
   "outputs": [],
   "source": [
    "type(iris)"
   ]
  },
  {
   "cell_type": "markdown",
   "id": "f5722d86",
   "metadata": {},
   "source": [
    "В языке Python есть структура данных - словарь (именованный массив, Map, ...):"
   ]
  },
  {
   "cell_type": "code",
   "execution_count": null,
   "id": "db71c6bf",
   "metadata": {},
   "outputs": [],
   "source": [
    "the_dict = {\"FirstName\": \"John\", \"LastName\": \"Smith\", \"Age\": 25}\n",
    "print( the_dict[\"FirstName\"] )\n",
    "print( the_dict.get(\"LastName\") )\n",
    "print( the_dict[\"Age\"] )\n",
    "\n",
    "print( \"----------------------\" )\n",
    "print( \"Итерирование по набору: \" )\n",
    "for entry in the_dict:\n",
    "    print( entry )\n",
    "    \n",
    "print( \"----------------------\" )\n",
    "print( \"Ключи (keys) словаря: \" )\n",
    "print( the_dict.keys() )\n",
    "print( \"Количество ключей:\", len(the_dict.keys()))\n",
    "\n",
    "print( \"----------------------\" )\n",
    "print( \"Значения (values) словаря: \" )\n",
    "print( the_dict.values() )\n",
    "\n",
    "print( \"-----------------------------------\" )\n",
    "print(\"Итерирование по парам ключ-значение:\")\n",
    "for k, v in the_dict.items():\n",
    "    print(k, \":::\", v)\n",
    "    \n",
    "print( \"-----------------------------------\" )\n",
    "print( \"Внесение изменений в словарь:\" )\n",
    "#\n",
    "#добавление нового поля (новой пары ключ-значение) или изменение существующего:\n",
    "#\n",
    "the_dict[\"height\"] = 1.8\n",
    "the_dict.update({\"email\": \"jsmith@example.com\"})\n",
    "\n",
    "for k, v in the_dict.items():\n",
    "    print(k, \":::\", v)"
   ]
  },
  {
   "cell_type": "markdown",
   "id": "eeb53ece",
   "metadata": {},
   "source": [
    "Одной из особенностей **sklearn.utils.Bunch** является возможность доступа к полям как к членам класса:"
   ]
  },
  {
   "cell_type": "code",
   "execution_count": null,
   "id": "ca4e1df9",
   "metadata": {},
   "outputs": [],
   "source": [
    "print( iris[\"target\"] )\n",
    "print( \"--------------\")\n",
    "print( iris.target )\n",
    "print( \"--------------\")\n",
    "print( iris.target_names )"
   ]
  },
  {
   "cell_type": "markdown",
   "id": "c67a980d",
   "metadata": {
    "tags": []
   },
   "source": [
    "## Pandas"
   ]
  },
  {
   "cell_type": "markdown",
   "id": "bb6a832a",
   "metadata": {},
   "source": [
    "[Pandas](https://pandas.pydata.org/docs/index.html) - библиотека для обработки и анализа данных. Предназначена для данных разной природы - матричных, панельных данных, временных рядов. Претендует на звание самого мощного и гибкого средства для анализа данных с открытым исходным кодом.\n",
    "\n",
    "Библиотека **Pandas** позволяет загружать наборы данных из различных форматов:\n",
    "\n",
    "* CSV\n",
    "* JSON\n",
    "* Microsoft Excel (+ xlsx)\n",
    "* XML\n",
    "* Создавать вручную из массивов numpy\n",
    "* [...и некоторые другие](https://pandas.pydata.org/docs/user_guide/io.html)\n"
   ]
  },
  {
   "cell_type": "code",
   "execution_count": null,
   "id": "103b16b7",
   "metadata": {},
   "outputs": [],
   "source": [
    "import pandas as pd"
   ]
  },
  {
   "cell_type": "markdown",
   "id": "5fccb299",
   "metadata": {},
   "source": [
    "Простое создание набора данных из python списка"
   ]
  },
  {
   "cell_type": "code",
   "execution_count": null,
   "id": "70bc32eb",
   "metadata": {},
   "outputs": [],
   "source": [
    "df = pd.DataFrame([[11,12,13],[21,22,23],[31,32,33]], columns = [\"ccol1\", \"col2\", \"col3\"])\n",
    "df"
   ]
  },
  {
   "cell_type": "markdown",
   "id": "f3766a6c",
   "metadata": {},
   "source": [
    "Создание **DataFrame** из словаря:"
   ]
  },
  {
   "cell_type": "code",
   "execution_count": null,
   "id": "8463a90a",
   "metadata": {
    "scrolled": true
   },
   "outputs": [],
   "source": [
    "df = pd.DataFrame({\"Name\": [\"Max\", \"Jane\", \"Alice\", \"Tom\"], \n",
    "                   \"Age\":[18, 19, 20, 19], \n",
    "                   \"Books Taken\": [1, 3, 2, 2],})\n",
    "df"
   ]
  },
  {
   "cell_type": "markdown",
   "id": "2e98001f",
   "metadata": {},
   "source": [
    "Загрузка набора данных из CSV-файла\n",
    "\n",
    "Источник данных: https://www.kaggle.com/datasets/aklimarimi/qs-world-ranked-universities-20182022"
   ]
  },
  {
   "cell_type": "code",
   "execution_count": null,
   "id": "f4e270eb",
   "metadata": {},
   "outputs": [],
   "source": [
    "univ_df = pd.read_csv( \"lec01_data.csv\" ) #read_csv( \"lec01_data.csv\", sep = \",\", encoding = \"utf-8\", decimal = \".\" )"
   ]
  },
  {
   "cell_type": "code",
   "execution_count": null,
   "id": "32ffb28d-3901-4a56-a860-9bc847b68865",
   "metadata": {},
   "outputs": [],
   "source": [
    "univ_df"
   ]
  },
  {
   "cell_type": "markdown",
   "id": "15e4e40b-060b-4916-ab50-9783815108df",
   "metadata": {},
   "source": [
    "Транспонированная форма"
   ]
  },
  {
   "cell_type": "code",
   "execution_count": null,
   "id": "ae37bf5e-4140-4277-bdcb-eb81839e443a",
   "metadata": {},
   "outputs": [],
   "source": [
    "univ_df.head(5).T"
   ]
  },
  {
   "cell_type": "markdown",
   "id": "2b4d7ac5",
   "metadata": {},
   "source": [
    "### Функции предварительного ознакомления с набором данных:"
   ]
  },
  {
   "cell_type": "code",
   "execution_count": null,
   "id": "3a675b37",
   "metadata": {},
   "outputs": [],
   "source": [
    "univ_df.shape"
   ]
  },
  {
   "cell_type": "code",
   "execution_count": null,
   "id": "3ba1eed7",
   "metadata": {},
   "outputs": [],
   "source": [
    "univ_df.columns"
   ]
  },
  {
   "cell_type": "code",
   "execution_count": null,
   "id": "ebddaed7",
   "metadata": {},
   "outputs": [],
   "source": [
    "univ_df.head() #можно параметром задать кол-во строк. По умолчанию - 5"
   ]
  },
  {
   "cell_type": "code",
   "execution_count": null,
   "id": "fd35c456",
   "metadata": {},
   "outputs": [],
   "source": [
    "univ_df.tail()"
   ]
  },
  {
   "cell_type": "markdown",
   "id": "068a4c39",
   "metadata": {},
   "source": [
    "Техническая информация по набору данных (**Pandas.DataFrame.info()**):"
   ]
  },
  {
   "cell_type": "code",
   "execution_count": null,
   "id": "1cdb6654",
   "metadata": {},
   "outputs": [],
   "source": [
    "univ_df.info()"
   ]
  },
  {
   "cell_type": "markdown",
   "id": "77134ead",
   "metadata": {},
   "source": [
    "Сводка по содержимому набора данных [(**Pandas.DataFrame.describe()**)](https://pandas.pydata.org/docs/reference/api/pandas.DataFrame.describe.html):"
   ]
  },
  {
   "cell_type": "code",
   "execution_count": null,
   "id": "ae5e422d",
   "metadata": {},
   "outputs": [],
   "source": [
    "univ_df.describe()"
   ]
  },
  {
   "cell_type": "markdown",
   "id": "0e847e2a",
   "metadata": {},
   "source": [
    "Как можно видеть, функция **describe()** по умолчанию не влючает в описание нечисловые столбцы. \n",
    "\n",
    "Их можно включить установкой параметра *include = \"all\"*, но это не столько информативно, сколько громоздко"
   ]
  },
  {
   "cell_type": "code",
   "execution_count": null,
   "id": "c643474e",
   "metadata": {},
   "outputs": [],
   "source": [
    "univ_df.describe(include = \"all\") #[\"object\", \"boolean\"]"
   ]
  },
  {
   "cell_type": "markdown",
   "id": "d6e15c49",
   "metadata": {},
   "source": [
    "Номинальные и категоримальные признаки удобно смотреть по отдельности\n",
    "\n",
    "**Pandas.DataFrame** так же, как и **sklearn.utils.Bunch** позволяет обращаться к элементам колонок как к членам класса: *univDf[\"Name\"] == univDf.Name*\n",
    "\n",
    "Каждая колонка имеет тип **Pandas.Series**, представляющий собой обертку **numpy.ndarray** с огромным набором дополнительных аналитических и прочих полезных функций "
   ]
  },
  {
   "cell_type": "code",
   "execution_count": null,
   "id": "e14c6e45",
   "metadata": {},
   "outputs": [],
   "source": [
    "univ_df.Country.unique()"
   ]
  },
  {
   "cell_type": "code",
   "execution_count": null,
   "id": "9fdda3f5",
   "metadata": {},
   "outputs": [],
   "source": [
    "univ_df.Name.value_counts()"
   ]
  },
  {
   "cell_type": "code",
   "execution_count": null,
   "id": "217aca99",
   "metadata": {},
   "outputs": [],
   "source": [
    "univ_df.City.value_counts(normalize = True)"
   ]
  },
  {
   "cell_type": "markdown",
   "id": "29d083e2",
   "metadata": {},
   "source": [
    "Про записи, содержащие **NaN**, **None**, рассмотрим далее"
   ]
  },
  {
   "cell_type": "markdown",
   "id": "109ff90a",
   "metadata": {},
   "source": [
    "### Индексация и извлечение данных"
   ]
  },
  {
   "cell_type": "code",
   "execution_count": null,
   "id": "b76592b7",
   "metadata": {},
   "outputs": [],
   "source": [
    "#\n",
    "#извлечение определенных столбцов\n",
    "#\n",
    "univ_df[ [\"Rank\",\"Name\",\"City\"] ]"
   ]
  },
  {
   "cell_type": "code",
   "execution_count": null,
   "id": "3325f54f",
   "metadata": {},
   "outputs": [],
   "source": [
    "#\n",
    "#получить вектор булевых значений, в каждой позиции которого - факт совпадения свойства с заданным значением\n",
    "#\"характеристический вектор\"\n",
    "#\n",
    "univ_df[\"City\"] == \"London\""
   ]
  },
  {
   "cell_type": "code",
   "execution_count": null,
   "id": "9514b305",
   "metadata": {},
   "outputs": [],
   "source": [
    "#\n",
    "#если записей много, то узнать количество совпадений/несовпадений можно применением Series.value_counts()\n",
    "#\n",
    "(univ_df.City == \"London\").value_counts()"
   ]
  },
  {
   "cell_type": "code",
   "execution_count": null,
   "id": "e34358a7",
   "metadata": {},
   "outputs": [],
   "source": [
    "#\n",
    "#такой вектор обычно используется в составе выборки строк по значению\n",
    "#\n",
    "univ_df[ univ_df.City == \"London\" ]"
   ]
  },
  {
   "cell_type": "code",
   "execution_count": null,
   "id": "c4866304",
   "metadata": {
    "scrolled": true
   },
   "outputs": [],
   "source": [
    "#\n",
    "#выборка записей по множеству (списку) значений Series.isin() \n",
    "#\n",
    "univ_df[ univ_df.City.isin([\"Cambridge\", \"Oxford\", \"Vladivostok\"]) ]"
   ]
  },
  {
   "cell_type": "code",
   "execution_count": null,
   "id": "e8b20428",
   "metadata": {
    "scrolled": true
   },
   "outputs": [],
   "source": [
    "#\n",
    "#названия университетов Лондона\n",
    "#\n",
    "univ_df[ univ_df.City == \"London\" ][\"Name\"]"
   ]
  },
  {
   "cell_type": "code",
   "execution_count": null,
   "id": "deb769d7",
   "metadata": {},
   "outputs": [],
   "source": [
    "#\n",
    "# вычислим средний балл университета Nottingham за 2022 год\n",
    "#\n",
    "univ_df[ (univ_df.Name == \"University of Nottingham\") & (univ_df.Year == 2022) ][\"Point\"].mean()"
   ]
  },
  {
   "cell_type": "markdown",
   "id": "f9c1bf58",
   "metadata": {},
   "source": [
    "Использование неравенств в условиях отбора:"
   ]
  },
  {
   "cell_type": "code",
   "execution_count": null,
   "id": "492c7f7a",
   "metadata": {},
   "outputs": [],
   "source": [
    "univ_df[ (univ_df.Year == 2022) & (univ_df.Rank <= 10) ]"
   ]
  },
  {
   "cell_type": "markdown",
   "id": "9dfd6ffa",
   "metadata": {},
   "source": [
    "#### Сортировка наборов данных"
   ]
  },
  {
   "cell_type": "code",
   "execution_count": null,
   "id": "645afe6a",
   "metadata": {},
   "outputs": [],
   "source": [
    "univ_df[ univ_df.Country == \" United Kingdom\" ].sort_values( by = [\"Year\", \"Rank\", \"Point\"], ascending = [True, False, False] )"
   ]
  },
  {
   "cell_type": "markdown",
   "id": "7bd99a6b",
   "metadata": {},
   "source": [
    "### Выборка по конкретным строкам и столбцам (срезы - slice)"
   ]
  },
  {
   "cell_type": "code",
   "execution_count": null,
   "id": "9bdd7345",
   "metadata": {},
   "outputs": [],
   "source": [
    "univ_df.columns"
   ]
  },
  {
   "cell_type": "markdown",
   "id": "52637d00",
   "metadata": {},
   "source": [
    "Выборка фрагмента с помощью функции **loc[ диапазон_по_строкам , диапазон_по_столбцам ]**"
   ]
  },
  {
   "cell_type": "code",
   "execution_count": null,
   "id": "a8a038bc",
   "metadata": {},
   "outputs": [],
   "source": [
    "#\n",
    "# выборка всех строк для столбцов от \"City\" до последнего\n",
    "#\n",
    "univ_df.loc[:, \"City\":]"
   ]
  },
  {
   "cell_type": "code",
   "execution_count": null,
   "id": "95fc4cb1",
   "metadata": {},
   "outputs": [],
   "source": [
    "#\n",
    "# выборка строк с 10 по 20 для полей от начала до Name\n",
    "#\n",
    "univ_df.loc[10:20, :\"Name\"]"
   ]
  },
  {
   "cell_type": "markdown",
   "id": "8fc18bbe",
   "metadata": {},
   "source": [
    "Выборка фрагмента набора данных по номерам (zero-based) строк и столбцов с помощью функции **iloc[rows, columns]**\n",
    "\n",
    "Диапазоны индексов задаются в формате *начало : конец - 1*\n",
    "\n",
    "Индексация строк и столбцов начинается с нуля"
   ]
  },
  {
   "cell_type": "code",
   "execution_count": null,
   "id": "416dc7e0",
   "metadata": {},
   "outputs": [],
   "source": [
    "univ_df.iloc[0:10, 1:4]"
   ]
  },
  {
   "cell_type": "code",
   "execution_count": null,
   "id": "92380dae",
   "metadata": {},
   "outputs": [],
   "source": [
    "#\n",
    "#применение лябда-функции для выбора строк по вычисляемым индексам\n",
    "#\n",
    "univ_df.iloc[lambda x: x.index % 2 == 0, [False, True, True, True, False, False]]"
   ]
  },
  {
   "cell_type": "markdown",
   "id": "dfee89b3",
   "metadata": {},
   "source": [
    "### Группировка записей (GroupBy)"
   ]
  },
  {
   "cell_type": "markdown",
   "id": "ad893be7",
   "metadata": {},
   "source": [
    "Структура **[Pandas.DataFrame.groupby](https://pandas.pydata.org/docs/reference/api/pandas.DataFrame.groupby.html)(by = [столбцы_группировки])[[столбцы_отображения]].function()**\n",
    "\n",
    "- К набору применяется метод groupby, который разделяет данные по grouping_columns – признаку или набору признаков. \n",
    "- Индексируем по нужным нам столбцам (columns_to_show). \n",
    "- К полученным группам применяется функция или аггрегирование нескольких функций."
   ]
  },
  {
   "cell_type": "markdown",
   "id": "49c803dc",
   "metadata": {},
   "source": [
    "Создание групп по одинаковым свойствам записей"
   ]
  },
  {
   "cell_type": "code",
   "execution_count": null,
   "id": "7e7380ca",
   "metadata": {},
   "outputs": [],
   "source": [
    "groups = univ_df.groupby([\"Country\"])\n",
    "print(groups)"
   ]
  },
  {
   "cell_type": "code",
   "execution_count": null,
   "id": "70772409",
   "metadata": {
    "scrolled": true,
    "tags": []
   },
   "outputs": [],
   "source": [
    "#\n",
    "# функция size() возвращает список размеров полученных групп типа pandas.Series\n",
    "#\n",
    "groups.size()"
   ]
  },
  {
   "cell_type": "markdown",
   "id": "586fa961",
   "metadata": {},
   "source": [
    "Для объектов Pandas.Series определены встроенные статистические функции min, max, mean, median,..."
   ]
  },
  {
   "cell_type": "code",
   "execution_count": null,
   "id": "4683e3cf",
   "metadata": {
    "scrolled": true,
    "tags": []
   },
   "outputs": [],
   "source": [
    "groups.min()"
   ]
  },
  {
   "cell_type": "markdown",
   "id": "fe1beec1",
   "metadata": {},
   "source": [
    "Ко всем группам могут применены функции методом **apply()**"
   ]
  },
  {
   "cell_type": "code",
   "execution_count": null,
   "id": "9bb8f4b5",
   "metadata": {
    "scrolled": true,
    "tags": []
   },
   "outputs": [],
   "source": [
    "groups.apply(lambda g: \n",
    "                    display(g)\n",
    "            )"
   ]
  },
  {
   "cell_type": "markdown",
   "id": "6b8421aa",
   "metadata": {},
   "source": [
    "Выделение отдельных свойств по группам (сгруппировали университеты по странам, смотрим среднее занимаемое место в рейтинге)"
   ]
  },
  {
   "cell_type": "code",
   "execution_count": null,
   "id": "f7a6840c",
   "metadata": {
    "scrolled": true,
    "tags": []
   },
   "outputs": [],
   "source": [
    "univ_df.groupby([\"Country\"])[[\"Rank\"]].mean()"
   ]
  },
  {
   "cell_type": "markdown",
   "id": "d3bbe81f",
   "metadata": {},
   "source": [
    "Применим сортровку по полученным данным (по колонке со средним)"
   ]
  },
  {
   "cell_type": "code",
   "execution_count": null,
   "id": "72d29209",
   "metadata": {
    "scrolled": true,
    "tags": []
   },
   "outputs": [],
   "source": [
    "univ_df.groupby([\"Country\"])[[\"Rank\"]].mean().sort_values(by=[\"Rank\"], ascending = [True])"
   ]
  },
  {
   "cell_type": "markdown",
   "id": "822b21d2",
   "metadata": {},
   "source": [
    "Группировка по нескольким свойствам. На примере группировки университетов по стране и городу расположения"
   ]
  },
  {
   "cell_type": "code",
   "execution_count": null,
   "id": "7c296aae",
   "metadata": {
    "scrolled": true,
    "tags": []
   },
   "outputs": [],
   "source": [
    "univ_df.groupby([\"Country\", \"City\"]).count()"
   ]
  },
  {
   "cell_type": "markdown",
   "id": "f6c04ace",
   "metadata": {},
   "source": [
    "Аггрегация разных свойств для каждой группы (функция **agg()**)"
   ]
  },
  {
   "cell_type": "code",
   "execution_count": null,
   "id": "9cb3b338",
   "metadata": {
    "scrolled": true
   },
   "outputs": [],
   "source": [
    "#\n",
    "#групируем университеты по странам, отобразив базовые стат.данные по занимаемому месту и кол-ву баллов\n",
    "#\n",
    "univ_df.groupby([\"Country\"])[[\"Rank\",\"Point\"]].agg( [np.mean, np.std, np.min, np.max] )"
   ]
  },
  {
   "cell_type": "markdown",
   "id": "5f99b737",
   "metadata": {},
   "source": [
    "### Сводные таблицы Pivot table"
   ]
  },
  {
   "cell_type": "markdown",
   "id": "565624eb",
   "metadata": {},
   "source": [
    "Параметры функции [**pivot_table()**](https://pandas.pydata.org/docs/reference/api/pandas.pivot_table.html) :\n",
    "* values=None, \n",
    "* index=None, \n",
    "* columns=None, \n",
    "* aggfunc='mean', \n",
    "* fill_value=None, \n",
    "* margins=False, \n",
    "* dropna=True, \n",
    "* margins_name='All', \n",
    "* observed=False, \n",
    "* sort=True"
   ]
  },
  {
   "cell_type": "code",
   "execution_count": null,
   "id": "53d129de",
   "metadata": {},
   "outputs": [],
   "source": [
    "univ_df.pivot_table( values = [\"Name\"], index = [\"Country\",\"City\"], aggfunc=\"count\" )"
   ]
  },
  {
   "cell_type": "markdown",
   "id": "d59736c5",
   "metadata": {},
   "source": [
    "### Объединение наборов данных - Merge"
   ]
  },
  {
   "cell_type": "code",
   "execution_count": null,
   "id": "e886fb1c",
   "metadata": {},
   "outputs": [],
   "source": [
    "user_df = pd.DataFrame([[\"Саша\", 20, \"sasha@example.com\"],\n",
    "                       [\"Петя\", 21, \"pete_xyz@themail.com\"],\n",
    "                       [\"Катя\", 20, \"kate1234@example.com\"],\n",
    "                       [\"Маша\", 19, \"mary_ya@somemail.com\"]], columns=[\"Имя\", \"Возраст\", \"e-mail\"])\n",
    "user_df"
   ]
  },
  {
   "cell_type": "code",
   "execution_count": null,
   "id": "6fb15bd9",
   "metadata": {},
   "outputs": [],
   "source": [
    "study_df = pd.DataFrame([[\"Саша\", \"ВВГУ\"],\n",
    "                        [\"Петя\", \"ВВГУ\"],\n",
    "                        [\"Вася\", \"ДВФУ\"],\n",
    "                        [\"Антон\", \"ДВФУ\"],\n",
    "                        [\"Катя\", \"ТГМУ\"],\n",
    "                        [\"Сергей\"]], columns=[\"Имя\", \"Вуз\"])\n",
    "study_df\n"
   ]
  },
  {
   "cell_type": "markdown",
   "id": "704b7c66",
   "metadata": {},
   "source": [
    "Будем считать, что поле \"Имя\" однозначно идентифицирует человека\n",
    "\n",
    "Выполним слияние таблиц по полю \"имя\"\n",
    "\n",
    "Способы присоединения (**how**):\n",
    "* left, \n",
    "* right, \n",
    "* outer, \n",
    "* inner, \n",
    "* cross\n",
    "\n",
    "default: ‘inner’"
   ]
  },
  {
   "cell_type": "code",
   "execution_count": null,
   "id": "5df84df0",
   "metadata": {},
   "outputs": [],
   "source": [
    "full_df = user_df.merge(study_df, how = \"inner\", left_on = \"Имя\", right_on=\"Имя\")\n",
    "full_df"
   ]
  },
  {
   "cell_type": "code",
   "execution_count": null,
   "id": "cb331041",
   "metadata": {},
   "outputs": [],
   "source": [
    "user_df.merge(study_df, how = \"left\", left_on = \"Имя\", right_on=\"Имя\")"
   ]
  },
  {
   "cell_type": "code",
   "execution_count": null,
   "id": "510dc067",
   "metadata": {},
   "outputs": [],
   "source": [
    "user_df.merge(study_df, how = \"right\", left_on = \"Имя\", right_on=\"Имя\")"
   ]
  },
  {
   "cell_type": "code",
   "execution_count": null,
   "id": "2510afef",
   "metadata": {},
   "outputs": [],
   "source": [
    "merge_out = user_df.merge(study_df, how = \"outer\", left_on = \"Имя\", right_on=\"Имя\")\n",
    "merge_out"
   ]
  },
  {
   "cell_type": "markdown",
   "id": "0dad17dc",
   "metadata": {},
   "source": [
    "### Борьба с NaN \n",
    "\n",
    "\n"
   ]
  },
  {
   "cell_type": "markdown",
   "id": "b9eee920",
   "metadata": {},
   "source": [
    "Поиск записей с отсутствующими значениями"
   ]
  },
  {
   "cell_type": "code",
   "execution_count": null,
   "id": "a88f025b",
   "metadata": {},
   "outputs": [],
   "source": [
    "#\n",
    "# Pandas.DataFrame.isna() и Pandas.DataFrame.isnull() - одно и то же!\n",
    "#\n",
    "merge_out.Вуз.isnull()"
   ]
  },
  {
   "cell_type": "code",
   "execution_count": null,
   "id": "48886ff6",
   "metadata": {},
   "outputs": [],
   "source": [
    "merge_out.Вуз.isnull().value_counts()"
   ]
  },
  {
   "cell_type": "code",
   "execution_count": null,
   "id": "4ea5fdca",
   "metadata": {},
   "outputs": [],
   "source": [
    "merge_out[ merge_out.Вуз.isnull() ]"
   ]
  },
  {
   "cell_type": "markdown",
   "id": "3ff25c82",
   "metadata": {},
   "source": [
    "Борьба с *NaN* часто носит \"индивидуальный\" характер, но есть общие подходы. Подробно о них позже...\n",
    "\n",
    "Самый радикальный - **Pandas.DataFrame.dropna()**"
   ]
  },
  {
   "cell_type": "code",
   "execution_count": null,
   "id": "bccb4b97",
   "metadata": {},
   "outputs": [],
   "source": [
    "clear_df = merge_out.dropna(axis = 0)\n",
    "clear_df"
   ]
  },
  {
   "cell_type": "code",
   "execution_count": null,
   "id": "46ec79ca-5a71-4297-819d-c4b55d7074a7",
   "metadata": {},
   "outputs": [],
   "source": []
  }
 ],
 "metadata": {
  "celltoolbar": "Отсутствует",
  "kernelspec": {
   "display_name": "Python 3 (ipykernel)",
   "language": "python",
   "name": "python3"
  },
  "language_info": {
   "codemirror_mode": {
    "name": "ipython",
    "version": 3
   },
   "file_extension": ".py",
   "mimetype": "text/x-python",
   "name": "python",
   "nbconvert_exporter": "python",
   "pygments_lexer": "ipython3",
   "version": "3.9.13"
  },
  "vscode": {
   "interpreter": {
    "hash": "7574cbe30742f1d7b7ab0f594d4d9f281489386aaa2023841d6c1976234a2259"
   }
  }
 },
 "nbformat": 4,
 "nbformat_minor": 5
}
