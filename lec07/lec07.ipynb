{
 "cells": [
  {
   "cell_type": "markdown",
   "id": "42278198",
   "metadata": {},
   "source": [
    "## Подбор параметров модели методом поиска на сетке - GridSearch "
   ]
  },
  {
   "cell_type": "markdown",
   "id": "eb40abd4",
   "metadata": {},
   "source": [
    "Поиск оптимальных значений ключевых параметров модели (то есть значений, которые дают наилучшую обобщающую\n",
    "способность) является сложной задачей, но она обязательна почти для всех моделей и наборов данных. Поскольку поиск оптимальных значений параметров является общераспространенной задачей, библиотека **scikit-learn** предлагает стандартные методы, позволяющие решить ее.\n",
    "\n",
    "Наиболее часто используемый метод – это решетчатый поиск (**grid search**), который по сути является перебором всех возможных комбинаций интересующих параметров.\n"
   ]
  },
  {
   "cell_type": "markdown",
   "id": "df0f0349",
   "metadata": {},
   "source": [
    "Рассмотрим модель дерева решений DecisionTreeClassifier на известном наборе данных и оценим качество классификации при различных значениях параметров модели:\n",
    "\n",
    "* min_samples_leaf - минимальное кол-во примеров в листе (по умолчанию 1)\n",
    "* min_samples_split - минимальное кол-во примеров для ветвления (по умолчанию 2)\n",
    "* max_depth - максимальная глубина дерева (по умоланию не ограничено)\n",
    "\n",
    "Значения по умолчанию часто приводят к заметному перебочунию дерева решений (на обучающей выборке 1.0, а на тестовой значительно ниже)\n",
    "\n",
    "Покрутим эти параметры по сетке из следующих значений:\n",
    "\n",
    "* min_samples_leaf = {1, 2, ..10}\n",
    "* min_samples_split = {2,4, ... 10}\n",
    "* max_depth = {2,3,...20}\n"
   ]
  },
  {
   "cell_type": "markdown",
   "id": "6752c624",
   "metadata": {},
   "source": [
    "Класс **GridSearchCV** выполняет подбор параметров указанной модели на заданной сетке значений с кросс-валидацией модели, поскольку хорошие результаты для набора параметров могли быть получены на случайно удачном наборе данных, потому для проверки помимо разбиения на train/test для каждой модели необходимо также выделить валидационную часть общего набора данных, либо выполнять кросс-валидацию, которую **GridSearchCV** и выполняет."
   ]
  },
  {
   "cell_type": "code",
   "execution_count": 3,
   "id": "ff5a2528",
   "metadata": {},
   "outputs": [],
   "source": [
    "from sklearn.model_selection import GridSearchCV\n",
    "from sklearn.datasets import load_iris\n",
    "from sklearn.tree import DecisionTreeClassifier\n",
    "\n",
    "iris = load_iris()"
   ]
  },
  {
   "cell_type": "code",
   "execution_count": 11,
   "id": "5aa1205f",
   "metadata": {},
   "outputs": [
    {
     "data": {
      "text/plain": [
       "GridSearchCV(cv=5, estimator=DecisionTreeClassifier(), n_jobs=-1,\n",
       "             param_grid={'max_depth': range(2, 20),\n",
       "                         'min_samples_leaf': range(1, 10),\n",
       "                         'min_samples_split': range(2, 10, 2)})"
      ]
     },
     "execution_count": 11,
     "metadata": {},
     "output_type": "execute_result"
    }
   ],
   "source": [
    "dtc = DecisionTreeClassifier()\n",
    "\n",
    "params = { 'max_depth': range (2, 20, 1),\n",
    "              'min_samples_leaf': range (1, 10),\n",
    "              'min_samples_split': range (2,10,2) }\n",
    "\n",
    "grid = GridSearchCV(dtc, params, cv = 5, n_jobs = -1)\n",
    "grid.fit(iris.data, iris.target)"
   ]
  },
  {
   "cell_type": "code",
   "execution_count": 12,
   "id": "1cf6ec2f",
   "metadata": {},
   "outputs": [
    {
     "name": "stdout",
     "output_type": "stream",
     "text": [
      "Наилучшие значения параметров: {'max_depth': 3, 'min_samples_leaf': 1, 'min_samples_split': 8}\n",
      "Наилучшее значение метрики: 0.9733333333333334\n"
     ]
    }
   ],
   "source": [
    "print(f\"Наилучшие значения параметров: {grid.best_params_}\")\n",
    "print(f\"Наилучшее значение метрики: {grid.best_score_}\")"
   ]
  },
  {
   "cell_type": "markdown",
   "id": "ae9b53cd",
   "metadata": {},
   "source": [
    "<hr>"
   ]
  },
  {
   "cell_type": "markdown",
   "id": "b9251d8f",
   "metadata": {},
   "source": [
    "## Ансамбли моделей. Случайный лес (RandomForestClassifier)\n",
    "\n",
    "В машинном обучении под ансамблем моделей понимают комбинацию нескольких алгоритмов обучения, которые, работая вместе, позволяют построить модель более эффективную и точную, чем любая из моделей, построенная с помощью отдельного алгоритма.\n",
    "\n",
    "случайный лес – это набор деревьев решений, где каждое дерево немного отличается от остальных. Идея случайного леса заключается в том, что каждое дерево может довольно хорошо прогнозировать, но скорее всего переобучается на части данных. Если мы построим много деревьев, которые хорошо работают и переобучаются с разной степенью, мы можем уменьшить переобучение путем усреднения их результатов."
   ]
  },
  {
   "cell_type": "code",
   "execution_count": 13,
   "id": "0e080df1",
   "metadata": {},
   "outputs": [],
   "source": [
    "from sklearn.ensemble import RandomForestClassifier\n",
    "from sklearn.model_selection import train_test_split\n",
    "\n",
    "X_train, X_test, y_train, y_test = train_test_split(iris.data, iris.target, train_size = 0.75)"
   ]
  },
  {
   "cell_type": "code",
   "execution_count": 15,
   "id": "dd1304e5",
   "metadata": {},
   "outputs": [
    {
     "data": {
      "text/plain": [
       "RandomForestClassifier(n_estimators=5)"
      ]
     },
     "execution_count": 15,
     "metadata": {},
     "output_type": "execute_result"
    }
   ],
   "source": [
    "forest = RandomForestClassifier(n_estimators = 5)\n",
    "forest.fit(X_train, y_train)"
   ]
  },
  {
   "cell_type": "code",
   "execution_count": 18,
   "id": "46f850ae",
   "metadata": {},
   "outputs": [
    {
     "name": "stdout",
     "output_type": "stream",
     "text": [
      "Правильность на обучающем наборе: 0.991\n",
      "Правильность на тестовом наборе: 0.974\n"
     ]
    }
   ],
   "source": [
    "print(\"Правильность на обучающем наборе: {:.3f}\".format(forest.score(X_train, y_train)))\n",
    "print(\"Правильность на тестовом наборе: {:.3f}\".format(forest.score(X_test, y_test)))"
   ]
  },
  {
   "cell_type": "markdown",
   "id": "e8034322",
   "metadata": {},
   "source": [
    "Подберем наилучшие параметры для случайного леса методом **GridSearchCV**"
   ]
  },
  {
   "cell_type": "code",
   "execution_count": 19,
   "id": "735c1063",
   "metadata": {},
   "outputs": [
    {
     "data": {
      "text/plain": [
       "GridSearchCV(cv=5, estimator=RandomForestClassifier(n_estimators=5), n_jobs=-1,\n",
       "             param_grid={'max_depth': range(2, 20),\n",
       "                         'min_samples_leaf': range(1, 10),\n",
       "                         'min_samples_split': range(2, 10, 2),\n",
       "                         'n_estimators': range(3, 20)})"
      ]
     },
     "execution_count": 19,
     "metadata": {},
     "output_type": "execute_result"
    }
   ],
   "source": [
    "params = {  \"n_estimators\": range(3,20),\n",
    "            'max_depth': range (2, 20, 1),\n",
    "            'min_samples_leaf': range (1, 10),\n",
    "            'min_samples_split': range (2,10,2) }\n",
    "\n",
    "gridRf = GridSearchCV(forest, params, cv = 5, n_jobs = -1)\n",
    "gridRf.fit(iris.data, iris.target)"
   ]
  },
  {
   "cell_type": "code",
   "execution_count": 20,
   "id": "201e1087",
   "metadata": {},
   "outputs": [
    {
     "name": "stdout",
     "output_type": "stream",
     "text": [
      "Наилучшие значения параметров: {'max_depth': 17, 'min_samples_leaf': 8, 'min_samples_split': 6, 'n_estimators': 8}\n",
      "Наилучшее значение метрики: 0.9800000000000001\n"
     ]
    }
   ],
   "source": [
    "print(f\"Наилучшие значения параметров: {gridRf.best_params_}\")\n",
    "print(f\"Наилучшее значение метрики: {gridRf.best_score_}\")"
   ]
  }
 ],
 "metadata": {
  "kernelspec": {
   "display_name": "Python 3",
   "language": "python",
   "name": "python3"
  },
  "language_info": {
   "codemirror_mode": {
    "name": "ipython",
    "version": 3
   },
   "file_extension": ".py",
   "mimetype": "text/x-python",
   "name": "python",
   "nbconvert_exporter": "python",
   "pygments_lexer": "ipython3",
   "version": "3.8.8"
  }
 },
 "nbformat": 4,
 "nbformat_minor": 5
}
