{
 "cells": [
  {
   "cell_type": "code",
   "execution_count": null,
   "id": "6543ac37-7041-4f3d-a9a8-bac13e0d6c3e",
   "metadata": {},
   "outputs": [],
   "source": [
    "!pip install --upgrade pip\n",
    "!pip install pandas\n",
    "!pip install scipy\n",
    "!pip install seaborn\n",
    "!pip install numpy\n",
    "!pip install scikit-learn"
   ]
  },
  {
   "cell_type": "markdown",
   "id": "e9ef2c0b-03cc-46c4-b957-defafe24dfd1",
   "metadata": {},
   "source": [
    "## Немного статистики"
   ]
  },
  {
   "cell_type": "markdown",
   "id": "cc27b724-5759-42c0-88d4-dc3f80295d12",
   "metadata": {
    "tags": []
   },
   "source": [
    "### Базовые понятия мат. статистики"
   ]
  },
  {
   "cell_type": "markdown",
   "id": "aa0f0b75-56d3-4ea1-a52a-f96ed124aeeb",
   "metadata": {},
   "source": [
    "Для начала вспомним, какими способами можно описать поведение признаков (столбцов)\n",
    "\n",
    "Например, существует числовой признак X = $[x1, x2, ... , X_n]$\n",
    "\n",
    "Что можно сказать о P?\n",
    "\n",
    "1. min, max\n",
    "\n",
    "2. Среднее занчение $ \\bar x = {x_1+x_2+...+p_n \\over n} $\n",
    "\n",
    "3. Медиана - такое число $h_x$ котороое делит выборку таким образом, что ровно половина элементов больше него, а другая половина элементов меньше. Например для выборки [1,3,5,5,15] $ \\bar x = 5.8 $, а $ h_x = 5 $ "
   ]
  },
  {
   "cell_type": "markdown",
   "id": "cd392013-0fbb-45b6-a057-cfd3b58d918e",
   "metadata": {},
   "source": [
    "То есть, в отсортированном массиве медиана - значение в середине этого массива $ X[len(X)] \\over 2 $. Для выборок с четным количеством элементов медиана не оределена и считается как среднее между двумя соседними элементами в середине. $ (X[(len(X) - 1) /2 ] + X[(len(X) + 1) /2]) \\over 2 $\n",
    "\n",
    "\n",
    "**Медиана vs Среднее**\n",
    "\n",
    "Значение медианы не так сильно зависит от попадания в выборку аномально больших и аномально малых значений признака\n",
    "\n",
    "**Симметричные выборки**\n",
    "\n",
    "Если медиана и среднее близки к друг-другу, то выборка называется симметричной\n",
    "\n",
    "Важность симметричных выборок - Для них проще искать аномалии4. Мода - значение которое наиболее часто встречается в выборке. Например модой для массива [1,2,1,1,6,5,9,102,1] будет 1. Мода не всегда определена однозначно. !!! Мода имеет смысл и для номинальных признаков"
   ]
  },
  {
   "cell_type": "markdown",
   "id": "f6e98b89-6076-49ab-b8e3-c212e889ea6b",
   "metadata": {},
   "source": [
    "4. Мода - значение которое наиболее часто встречается в выборке. Например модой для массива [1,2,1,1,6,5,9,102,1] будет 1. Мода не всегда определена однозначно. !!! Мода имеет смысл и для номинальных признаков\n",
    "\n",
    "5. Отклонение. Среднее и медиана не достаточно для адекватного описания выборки. Например для наборов [0,0,0,0,0] и [-2,-1,0,1,2] $h_x = \\bar x$, однако во второй выборке значения чаще отклоняются от от среднего.\n",
    "\n",
    "Отклонение считается по формуле $ S_x = \\sqrt{{1 \\over{n-1}} * \\displaystyle\\sum_{i=1}^{n} {(x_i - \\bar{x})}^2 } $\n",
    "\n",
    "Для первой выборки из прмера отклонение = 0\n",
    "\n",
    "Для второй выборки из примера отклонение = 1.58\n",
    "\n",
    "** Свойства отклонения **\n",
    "\n",
    "1. Отклонение всегда неотрицательно\n",
    "2. Отклонение значений P = 0, если значения P равны друг-другу\n",
    "3. Чем больше отклонение, тем сильнее разброс значений"
   ]
  },
  {
   "cell_type": "markdown",
   "id": "237e684f",
   "metadata": {},
   "source": [
    "!!! **Pandas** и **numpy** по-разному считают стандартное отклонение!"
   ]
  },
  {
   "cell_type": "code",
   "execution_count": 1,
   "id": "eaaa2043",
   "metadata": {},
   "outputs": [
    {
     "name": "stdout",
     "output_type": "stream",
     "text": [
      "Numpy std:  2.5708704751503917\n",
      "Pandas std:  2.6551836094703507\n"
     ]
    }
   ],
   "source": [
    "import numpy as np\n",
    "import pandas as pd\n",
    "x = [3,5,9,1,2,4,5,4,8,9,3,2,7,5,9,6]\n",
    "df = pd.DataFrame(x, columns = [\"X\"])\n",
    "print(\"Numpy std: \", np.std( np.array(x) ))\n",
    "print(\"Pandas std: \", df.X.std())\n"
   ]
  },
  {
   "cell_type": "code",
   "execution_count": 2,
   "id": "abe0c813",
   "metadata": {},
   "outputs": [
    {
     "name": "stdout",
     "output_type": "stream",
     "text": [
      "Несмещенная оценка:  2.6551836094703507 \n",
      "Смещенная оценка:  2.5708704751503917\n"
     ]
    }
   ],
   "source": [
    "xnp = np.array(x)\n",
    "xh = xnp.mean()\n",
    "sqe = np.square( xnp - xh )\n",
    "biased = np.sqrt( sqe.sum() / len(xnp) )\n",
    "unbiased = np.sqrt( sqe.sum() / (len(xnp) - 1) )\n",
    "print(\"Несмещенная оценка: \", unbiased, \"\\nСмещенная оценка: \", biased)"
   ]
  },
  {
   "cell_type": "markdown",
   "id": "ef04cd6e-a359-4a9e-ba1e-8c8de7fe6808",
   "metadata": {
    "tags": []
   },
   "source": [
    "### Симметричные выборки"
   ]
  },
  {
   "cell_type": "markdown",
   "id": "d460fe2b-0b9a-4d18-9e4d-fcd141c6fb65",
   "metadata": {},
   "source": [
    "Если $h_x$ близко к  $\\bar x$, то выборка называется симметричной, когда выполняется неравенство:\n",
    "\n",
    "модуль разности среднего и медианы <= 3*отклонение / sqrt(n)\n",
    "\n",
    "$| \\bar x - h_x | \\leq { 3S_x \\over \\sqrt n}$"
   ]
  },
  {
   "cell_type": "markdown",
   "id": "c4d23fb8-100f-4f1e-88d3-e17217ceb56f",
   "metadata": {
    "tags": []
   },
   "source": [
    "## Коэффициент корреляции"
   ]
  },
  {
   "cell_type": "markdown",
   "id": "c6573195-6af7-4781-bb24-9af517615625",
   "metadata": {},
   "source": [
    "Необходима величина, которая показывает, как значения одного числовго признака, влияют или зависят от друго числовго признака. Также эта величина, должна иметь смысл для признаков выраженных через разные смысловие единины (кг и литры, метры и литры, ...)\n",
    "\n",
    "**Пример зависимости между столбцами**\n",
    "```\n",
    "| X1 | X2  |  X3 | X4 | X5 |\n",
    "|----|-----|-----|----|----|\n",
    "| 0  | 1   | 0   | 10 | 8  |\n",
    "| 1  | 0   | 200 | 13 | 6  |\n",
    "| 2  | 1   | 400 | 16 | 4  |\n",
    "| 3  | 63  | 600 | 19 | 2  |\n",
    "```\n",
    "Видна сильная зависиомсть между X1 и X3, X4, X5. Так как мы можем очень легко предсказать через выражения:\n",
    "\n",
    "$X_3 = X_1 * 200$\n",
    "\n",
    "$X_4 = 10 + X_1 *3$\n",
    "\n",
    "$X_5 = 8 - 2 * X_1$\n",
    "\n",
    "Показатель KK - показатель того, как переменные ложаться на прямую\n",
    "\n",
    "**Если точки легко складываются на прямой, то зависимость существует, иначе сложно судить о зависимости**\n",
    "\n",
    "Если простым языком, то коэф. корреляции показывает, как ваши данные ложатся на прямую. Ниже представлен пример того, как данные ложатся на прямую.\n",
    "\n",
    "Как считается?\n",
    "\n",
    "Пусть $X = [x_1,x_2,...,x_n]$, а $Y = [y_1,y_2,...,y_n]$\n",
    "\n",
    "$ r(X, Y) = { \\displaystyle\\sum_{i=1}^{n} ({x_1 * y_x}) - (n * \\bar {x} * \\bar {y}) \\over {(n-1) * S_X * S_Y} } $\n",
    "\n",
    "или\n",
    "\n",
    "$ r(X,Y) = \\frac{ \\displaystyle\\sum_{i=1}^n (x_i-\\bar{X})(y_i - \\bar{Y}) }{\\sqrt{ \\displaystyle\\sum_{i=1}^{n}(x_i - \\bar{X})^2 \\displaystyle\\sum_{i=1}^{n}(y_i - \\bar{Y})^2}} $\n",
    "\n",
    "**Свойства корреляции**\n",
    "\n",
    "1. Число из отрезка [-1, 1]\n",
    "2. Если KK = 0, то зависимости между X,Y - нет\n",
    "3. Если КК > 0, то существует положительная зависимости (чем ближе к 1, тем сильнее). То есть при увеличении x - растет и y\n",
    "4. Если КК < 0, то существует отрицательная звисимость (чем ближе к -1, тем сильнее). То есть при уменьшении x - уменьшается и y\n",
    "5. Если |KK| равен 1, то существует сильная линейная зависимость"
   ]
  },
  {
   "cell_type": "code",
   "execution_count": 12,
   "id": "7d84d376-1e64-458e-aa3f-41218c52156c",
   "metadata": {
    "scrolled": true,
    "tags": []
   },
   "outputs": [
    {
     "data": {
      "image/png": "[encoded data removed]",
      "text/plain": [
       "<Figure size 500x500 with 1 Axes>"
      ]
     },
     "metadata": {},
     "output_type": "display_data"
    },
    {
     "data": {
      "image/png": "[encoded data removed]",
      "text/plain": [
       "<Figure size 500x500 with 1 Axes>"
      ]
     },
     "metadata": {},
     "output_type": "display_data"
    },
    {
     "data": {
      "image/png": "[encoded data removed]",
      "text/plain": [
       "<Figure size 500x500 with 1 Axes>"
      ]
     },
     "metadata": {},
     "output_type": "display_data"
    },
    {
     "data": {
      "image/png": "[encoded data removed]",
      "text/plain": [
       "<Figure size 500x500 with 1 Axes>"
      ]
     },
     "metadata": {},
     "output_type": "display_data"
    }
   ],
   "source": [
    "import pandas as pd\n",
    "import seaborn as sns\n",
    "import matplotlib.pyplot as plt\n",
    "%matplotlib inline\n",
    "\n",
    "df = pd.DataFrame(\n",
    "        [\n",
    "            [0,1,0,10,8],\n",
    "            [1,0,200,13,6],\n",
    "            [2,1,400,16,4],\n",
    "            [3,63,500,19,2]\n",
    "        ],\n",
    "        columns=['X1', 'X2', 'X3', 'X4', 'X5']\n",
    ")\n",
    "\n",
    "y_test_columns = df.columns[1:]\n",
    "\n",
    "for y_col in y_test_columns:\n",
    "    g = sns.lmplot(\n",
    "        data=df,\n",
    "        x=\"X1\", y=y_col,\n",
    "    )\n",
    "    g.set_axis_labels(\"X1\", f\"{y_col}\")\n",
    "    \n",
    "    plt.legend(title=f'X1 ~ {y_col}', loc='upper left', labels=[])\n",
    "    plt.show(g)\n"
   ]
  },
  {
   "cell_type": "code",
   "execution_count": 13,
   "id": "6a3bb658-1503-4cf9-9f2b-f1c33d988926",
   "metadata": {},
   "outputs": [
    {
     "data": {
      "text/html": [
       "<div>\n",
       "<style scoped>\n",
       "    .dataframe tbody tr th:only-of-type {\n",
       "        vertical-align: middle;\n",
       "    }\n",
       "\n",
       "    .dataframe tbody tr th {\n",
       "        vertical-align: top;\n",
       "    }\n",
       "\n",
       "    .dataframe thead th {\n",
       "        text-align: right;\n",
       "    }\n",
       "</style>\n",
       "<table border=\"1\" class=\"dataframe\">\n",
       "  <thead>\n",
       "    <tr style=\"text-align: right;\">\n",
       "      <th></th>\n",
       "      <th>X1</th>\n",
       "      <th>X2</th>\n",
       "      <th>X3</th>\n",
       "      <th>X4</th>\n",
       "      <th>X5</th>\n",
       "    </tr>\n",
       "  </thead>\n",
       "  <tbody>\n",
       "    <tr>\n",
       "      <th>X1</th>\n",
       "      <td>1.000000</td>\n",
       "      <td>0.774508</td>\n",
       "      <td>0.989778</td>\n",
       "      <td>1.000000</td>\n",
       "      <td>-1.000000</td>\n",
       "    </tr>\n",
       "    <tr>\n",
       "      <th>X2</th>\n",
       "      <td>0.774508</td>\n",
       "      <td>1.000000</td>\n",
       "      <td>0.676404</td>\n",
       "      <td>0.774508</td>\n",
       "      <td>-0.774508</td>\n",
       "    </tr>\n",
       "    <tr>\n",
       "      <th>X3</th>\n",
       "      <td>0.989778</td>\n",
       "      <td>0.676404</td>\n",
       "      <td>1.000000</td>\n",
       "      <td>0.989778</td>\n",
       "      <td>-0.989778</td>\n",
       "    </tr>\n",
       "    <tr>\n",
       "      <th>X4</th>\n",
       "      <td>1.000000</td>\n",
       "      <td>0.774508</td>\n",
       "      <td>0.989778</td>\n",
       "      <td>1.000000</td>\n",
       "      <td>-1.000000</td>\n",
       "    </tr>\n",
       "    <tr>\n",
       "      <th>X5</th>\n",
       "      <td>-1.000000</td>\n",
       "      <td>-0.774508</td>\n",
       "      <td>-0.989778</td>\n",
       "      <td>-1.000000</td>\n",
       "      <td>1.000000</td>\n",
       "    </tr>\n",
       "  </tbody>\n",
       "</table>\n",
       "</div>"
      ],
      "text/plain": [
       "          X1        X2        X3        X4        X5\n",
       "X1  1.000000  0.774508  0.989778  1.000000 -1.000000\n",
       "X2  0.774508  1.000000  0.676404  0.774508 -0.774508\n",
       "X3  0.989778  0.676404  1.000000  0.989778 -0.989778\n",
       "X4  1.000000  0.774508  0.989778  1.000000 -1.000000\n",
       "X5 -1.000000 -0.774508 -0.989778 -1.000000  1.000000"
      ]
     },
     "execution_count": 13,
     "metadata": {},
     "output_type": "execute_result"
    }
   ],
   "source": [
    "# через pandas\n",
    "# берем только числоые значения, в нашем случае int64, наиболее чаще в дикой природе float64\n",
    "float_cols = [col for col in df.columns if df[col].dtype in ['int64', 'float64']] # | float64\n",
    "df[float_cols].corr()"
   ]
  },
  {
   "cell_type": "code",
   "execution_count": 7,
   "id": "d9597c86",
   "metadata": {},
   "outputs": [
    {
     "name": "stdout",
     "output_type": "stream",
     "text": [
      "x1-x2: 1.0\n",
      "x1-x3: 0.9753583650333325\n"
     ]
    }
   ],
   "source": [
    "x1 = np.array([10,20,30,40,50])\n",
    "x2 = np.array([1,2,3,4,5])\n",
    "x3 = np.array([15,49,53,76,90])\n",
    "print( \"x1-x2:\", np.corrcoef(x1,x2)[1,0] )\n",
    "print( \"x1-x3:\", np.corrcoef(x1,x3)[0,1] )"
   ]
  },
  {
   "cell_type": "markdown",
   "id": "122fc355",
   "metadata": {},
   "source": [
    "#### Медиана"
   ]
  },
  {
   "cell_type": "code",
   "execution_count": 179,
   "id": "2c17d97b-bf04-459e-953c-4760ad257274",
   "metadata": {},
   "outputs": [],
   "source": [
    "from pprint import pprint\n",
    "\n",
    "def median(sample: list[float]) -> float:\n",
    "    size = len(sample)\n",
    "    start_index = int(size / 2)\n",
    "    x = sorted(sample)\n",
    "    \n",
    "    if size % 2 != 0:\n",
    "        median_index = start_index\n",
    "        return x[median_index]\n",
    "    \n",
    "    median_left_child, median_right_child  = start_index - 1, start_index + 1\n",
    "\n",
    "    return sum(x[median_left_child:median_right_child]) / 2\n",
    "\n",
    "def mean(sample: list[float]) -> float:\n",
    "    return sum(sample) / len(sample)\n"
   ]
  },
  {
   "cell_type": "code",
   "execution_count": 180,
   "id": "ec204aaa-b754-45e4-bf31-08a6a8b3df88",
   "metadata": {},
   "outputs": [
    {
     "name": "stdout",
     "output_type": "stream",
     "text": [
      "{'mean': 5.8, 'median': 5}\n"
     ]
    }
   ],
   "source": [
    "# медиана в нечетном множествет\n",
    "x = sorted([1,3,5,5,15])\n",
    "\n",
    "describe = {\n",
    "    'mean': mean(x),\n",
    "    'median': median(x)\n",
    "}\n",
    "\n",
    "pprint(describe)"
   ]
  },
  {
   "cell_type": "code",
   "execution_count": 181,
   "id": "2335ad7c-ea2e-4f0f-9bed-269b1acc1489",
   "metadata": {},
   "outputs": [
    {
     "name": "stdout",
     "output_type": "stream",
     "text": [
      "{'mean': 21.833333333333332, 'median': 5.0}\n"
     ]
    }
   ],
   "source": [
    "# медиана в четном множестве\n",
    "x = sorted([1,3,5,5,15, 102])\n",
    "\n",
    "describe = {\n",
    "    'mean': mean(x),\n",
    "    'median': median(x)\n",
    "}\n",
    "\n",
    "pprint(describe)"
   ]
  },
  {
   "cell_type": "markdown",
   "id": "c3522ce5-33ca-46b9-87b7-c578740b37af",
   "metadata": {
    "tags": []
   },
   "source": [
    "## Обработка пропусков"
   ]
  },
  {
   "cell_type": "markdown",
   "id": "867ab50a-7c2b-427f-b333-5d88485e46ea",
   "metadata": {},
   "source": [
    "### Простейшие способы обработки"
   ]
  },
  {
   "cell_type": "markdown",
   "id": "2fb6ef8d-1cde-45f0-b9f9-081a7d0416dc",
   "metadata": {},
   "source": [
    "Достаточно часто в дикой природе встречаются таблицы с пропусками или заведомо ложными значениями.\n",
    "Возникает вопрос, что делать в данном случае (пропуски, выбросы, аномалии, билеберда)?\n",
    "\n",
    "Рассмотрим пример с такой таблицой, где часть ячеек не заполнена, а часть содержит некорректные данные.\n",
    "\n",
    "Например, вес человека в условиях Земной гравитации не может равнятся 649 кг, вероятно была совершена ошибка и оригинальное значение 64.09.\n",
    "\n",
    "Место на олимпиаде не может быть отрицательным значением, исходя из описания переменной, вероятно это 4.\n",
    "\n",
    "Также видно, что существуют пропуски. Эти значения нужно либо как-то заполнить либо как-то что\n",
    "\n",
    "Скорее всего эти ошибки возникли из-за описки человека, который эту таблицу заполнял"
   ]
  },
  {
   "cell_type": "code",
   "execution_count": 1,
   "id": "ad0f2270-eb4f-4a42-aa28-ebc86251ddee",
   "metadata": {},
   "outputs": [
    {
     "data": {
      "text/html": [
       "<div>\n",
       "<style scoped>\n",
       "    .dataframe tbody tr th:only-of-type {\n",
       "        vertical-align: middle;\n",
       "    }\n",
       "\n",
       "    .dataframe tbody tr th {\n",
       "        vertical-align: top;\n",
       "    }\n",
       "\n",
       "    .dataframe thead th {\n",
       "        text-align: right;\n",
       "    }\n",
       "</style>\n",
       "<table border=\"1\" class=\"dataframe\">\n",
       "  <thead>\n",
       "    <tr style=\"text-align: right;\">\n",
       "      <th></th>\n",
       "      <th>Студент</th>\n",
       "      <th>Пол</th>\n",
       "      <th>Баллы_по_предмету</th>\n",
       "      <th>Вес</th>\n",
       "      <th>Место_на_WorldSkills</th>\n",
       "    </tr>\n",
       "  </thead>\n",
       "  <tbody>\n",
       "    <tr>\n",
       "      <th>0</th>\n",
       "      <td>Сидоров</td>\n",
       "      <td>1</td>\n",
       "      <td>&lt;NA&gt;</td>\n",
       "      <td>84.0</td>\n",
       "      <td>1</td>\n",
       "    </tr>\n",
       "    <tr>\n",
       "      <th>1</th>\n",
       "      <td>Козловский</td>\n",
       "      <td>1</td>\n",
       "      <td>76.0</td>\n",
       "      <td>70.0</td>\n",
       "      <td>3</td>\n",
       "    </tr>\n",
       "    <tr>\n",
       "      <th>2</th>\n",
       "      <td>Петрова</td>\n",
       "      <td>0</td>\n",
       "      <td>61</td>\n",
       "      <td>649.0</td>\n",
       "      <td>-4</td>\n",
       "    </tr>\n",
       "    <tr>\n",
       "      <th>3</th>\n",
       "      <td>Казаков</td>\n",
       "      <td>&lt;NA&gt;</td>\n",
       "      <td>76.0</td>\n",
       "      <td>56.0</td>\n",
       "      <td>2</td>\n",
       "    </tr>\n",
       "  </tbody>\n",
       "</table>\n",
       "</div>"
      ],
      "text/plain": [
       "      Студент   Пол Баллы_по_предмету    Вес  Место_на_WorldSkills\n",
       "0     Сидоров     1              <NA>   84.0                     1\n",
       "1  Козловский     1              76.0   70.0                     3\n",
       "2     Петрова     0                61  649.0                    -4\n",
       "3     Казаков  <NA>              76.0   56.0                     2"
      ]
     },
     "execution_count": 1,
     "metadata": {},
     "output_type": "execute_result"
    }
   ],
   "source": [
    "import pandas as pd\n",
    "\n",
    "df = pd.DataFrame(\n",
    "    [\n",
    "        ['Сидоров', 1, pd.NA, 84.0, 1],\n",
    "        ['Козловский', 1, 76.0, 70, 3],\n",
    "        ['Петрова', 0, 61, 649.0, -4],\n",
    "        ['Казаков', pd.NA, 76.0, 56, 2]\n",
    "    ],\n",
    "    columns = ['Студент', 'Пол', 'Баллы_по_предмету', 'Вес', 'Место_на_WorldSkills']\n",
    ")\n",
    "\n",
    "df_base = df.copy()\n",
    "\n",
    "df"
   ]
  },
  {
   "cell_type": "markdown",
   "id": "da7ca9b8-d908-400f-89f0-676d036322b6",
   "metadata": {},
   "source": [
    "## Какие существуют простые методы обработки\n",
    "\n",
    "1. Удалить объект (строку)\n",
    "2. Удалить столбец, если пропусков очень много + нет никаких зависимых переменных\n",
    "3. Заменить значение на среднее (медиану, медиану, моду, ...) из значений столбца\n",
    "4. Посчитать относительно расстояний соседей\n",
    "5. Взять наиболее встречаемый признак у зависимых переменных\n",
    "6. Использовать КК (коэффициент корреляции)\n",
    "\n",
    "P.S. 1 и 2 способы крайне радикальные и их стоит применять с осторожностью. Так как удаляя объекты с равномерно распределенными пропусками, вы утратите данные\n",
    "\n",
    "Например"
   ]
  },
  {
   "cell_type": "markdown",
   "id": "3e831345-2041-451f-b8fc-20654adbc150",
   "metadata": {
    "tags": []
   },
   "source": [
    "### Простые примеры"
   ]
  },
  {
   "cell_type": "code",
   "execution_count": 183,
   "id": "e20fdbc2-bf3c-4ada-bfcd-60bf44501298",
   "metadata": {},
   "outputs": [
    {
     "name": "stdout",
     "output_type": "stream",
     "text": [
      "{'mean': 71.0, 'median': 76.0, 'mode': 76.0}\n"
     ]
    },
    {
     "data": {
      "text/html": [
       "<div>\n",
       "<style scoped>\n",
       "    .dataframe tbody tr th:only-of-type {\n",
       "        vertical-align: middle;\n",
       "    }\n",
       "\n",
       "    .dataframe tbody tr th {\n",
       "        vertical-align: top;\n",
       "    }\n",
       "\n",
       "    .dataframe thead th {\n",
       "        text-align: right;\n",
       "    }\n",
       "</style>\n",
       "<table border=\"1\" class=\"dataframe\">\n",
       "  <thead>\n",
       "    <tr style=\"text-align: right;\">\n",
       "      <th></th>\n",
       "      <th>Студент</th>\n",
       "      <th>Пол</th>\n",
       "      <th>Баллы_по_предмету</th>\n",
       "      <th>Вес</th>\n",
       "      <th>Место_на_WorldSkills</th>\n",
       "    </tr>\n",
       "  </thead>\n",
       "  <tbody>\n",
       "    <tr>\n",
       "      <th>0</th>\n",
       "      <td>Сидоров</td>\n",
       "      <td>1</td>\n",
       "      <td>&lt;NA&gt;</td>\n",
       "      <td>84.0</td>\n",
       "      <td>1</td>\n",
       "    </tr>\n",
       "    <tr>\n",
       "      <th>1</th>\n",
       "      <td>Козловский</td>\n",
       "      <td>1</td>\n",
       "      <td>76.0</td>\n",
       "      <td>70.0</td>\n",
       "      <td>3</td>\n",
       "    </tr>\n",
       "    <tr>\n",
       "      <th>2</th>\n",
       "      <td>Петрова</td>\n",
       "      <td>0</td>\n",
       "      <td>61</td>\n",
       "      <td>649.0</td>\n",
       "      <td>-4</td>\n",
       "    </tr>\n",
       "    <tr>\n",
       "      <th>3</th>\n",
       "      <td>Казаков</td>\n",
       "      <td>&lt;NA&gt;</td>\n",
       "      <td>76.0</td>\n",
       "      <td>56.0</td>\n",
       "      <td>2</td>\n",
       "    </tr>\n",
       "  </tbody>\n",
       "</table>\n",
       "</div>"
      ],
      "text/plain": [
       "      Студент   Пол Баллы_по_предмету    Вес  Место_на_WorldSkills\n",
       "0     Сидоров     1              <NA>   84.0                     1\n",
       "1  Козловский     1              76.0   70.0                     3\n",
       "2     Петрова     0                61  649.0                    -4\n",
       "3     Казаков  <NA>              76.0   56.0                     2"
      ]
     },
     "execution_count": 183,
     "metadata": {},
     "output_type": "execute_result"
    }
   ],
   "source": [
    "from pprint import pprint\n",
    "# Способ актуален для числовых признаков\n",
    "mean = df.Баллы_по_предмету.mean()\n",
    "\n",
    "median = df.Баллы_по_предмету.median()\n",
    "\n",
    "freq = df.Баллы_по_предмету.mode()\n",
    "\n",
    "describe = {\n",
    "    'mean': df.Баллы_по_предмету.mean(),\n",
    "    'median': df.Баллы_по_предмету.median(),\n",
    "    'mode': df.Баллы_по_предмету.mode().iloc[0,],\n",
    "}\n",
    "\n",
    "pprint(describe)\n",
    "# Какое значение из данных случаев подойдет для Сидорова\n",
    "df"
   ]
  },
  {
   "cell_type": "markdown",
   "id": "a9f5371e-db2c-4c7f-89ed-3e695c0d90a6",
   "metadata": {},
   "source": [
    "Как быть с номинальными признаками?\n",
    "\n",
    "В качестве примера рассмотрим пол\n",
    "\n",
    "- Заменить пропуски на моду (1)\n",
    "- Рандомизировать поиск. С вероятность < 2/3 считать как 1, с вероятность больше чем 1/3 считать 0\n",
    "- Объявить пол \"числовым\" и применить к нему методы восстановления для числовых значений\n",
    "- Более сложные способы восстановления (ближайшие соседи, постановка гипотез относительно этой переменной)\n"
   ]
  },
  {
   "cell_type": "code",
   "execution_count": 184,
   "id": "abfa127a-072e-49fb-a9fb-092993566d94",
   "metadata": {},
   "outputs": [
    {
     "data": {
      "text/html": [
       "<div>\n",
       "<style scoped>\n",
       "    .dataframe tbody tr th:only-of-type {\n",
       "        vertical-align: middle;\n",
       "    }\n",
       "\n",
       "    .dataframe tbody tr th {\n",
       "        vertical-align: top;\n",
       "    }\n",
       "\n",
       "    .dataframe thead th {\n",
       "        text-align: right;\n",
       "    }\n",
       "</style>\n",
       "<table border=\"1\" class=\"dataframe\">\n",
       "  <thead>\n",
       "    <tr style=\"text-align: right;\">\n",
       "      <th></th>\n",
       "      <th>Студент</th>\n",
       "      <th>Пол</th>\n",
       "      <th>Баллы_по_предмету</th>\n",
       "      <th>Вес</th>\n",
       "      <th>Место_на_WorldSkills</th>\n",
       "    </tr>\n",
       "  </thead>\n",
       "  <tbody>\n",
       "    <tr>\n",
       "      <th>0</th>\n",
       "      <td>Сидоров</td>\n",
       "      <td>1</td>\n",
       "      <td>&lt;NA&gt;</td>\n",
       "      <td>84.0</td>\n",
       "      <td>1</td>\n",
       "    </tr>\n",
       "    <tr>\n",
       "      <th>1</th>\n",
       "      <td>Козловский</td>\n",
       "      <td>1</td>\n",
       "      <td>76.0</td>\n",
       "      <td>70.0</td>\n",
       "      <td>3</td>\n",
       "    </tr>\n",
       "    <tr>\n",
       "      <th>2</th>\n",
       "      <td>Петрова</td>\n",
       "      <td>0</td>\n",
       "      <td>61</td>\n",
       "      <td>649.0</td>\n",
       "      <td>-4</td>\n",
       "    </tr>\n",
       "    <tr>\n",
       "      <th>3</th>\n",
       "      <td>Казаков</td>\n",
       "      <td>1</td>\n",
       "      <td>76.0</td>\n",
       "      <td>56.0</td>\n",
       "      <td>2</td>\n",
       "    </tr>\n",
       "  </tbody>\n",
       "</table>\n",
       "</div>"
      ],
      "text/plain": [
       "      Студент Пол Баллы_по_предмету    Вес  Место_на_WorldSkills\n",
       "0     Сидоров   1              <NA>   84.0                     1\n",
       "1  Козловский   1              76.0   70.0                     3\n",
       "2     Петрова   0                61  649.0                    -4\n",
       "3     Казаков   1              76.0   56.0                     2"
      ]
     },
     "execution_count": 184,
     "metadata": {},
     "output_type": "execute_result"
    }
   ],
   "source": [
    "# Способ актуален для номинальных признаков признаков\n",
    "# Пол - считаем моду\n",
    "index = df_base[df_base.Пол.isnull()].index[0]\n",
    "\n",
    "df.at[index, 'Пол'] = df_base.Пол.mode().iloc[0]\n",
    "df"
   ]
  },
  {
   "cell_type": "code",
   "execution_count": 185,
   "id": "457dda50-ba10-4229-90a2-ec5d5e639fbb",
   "metadata": {},
   "outputs": [
    {
     "data": {
      "text/html": [
       "<div>\n",
       "<style scoped>\n",
       "    .dataframe tbody tr th:only-of-type {\n",
       "        vertical-align: middle;\n",
       "    }\n",
       "\n",
       "    .dataframe tbody tr th {\n",
       "        vertical-align: top;\n",
       "    }\n",
       "\n",
       "    .dataframe thead th {\n",
       "        text-align: right;\n",
       "    }\n",
       "</style>\n",
       "<table border=\"1\" class=\"dataframe\">\n",
       "  <thead>\n",
       "    <tr style=\"text-align: right;\">\n",
       "      <th></th>\n",
       "      <th>Студент</th>\n",
       "      <th>Пол</th>\n",
       "      <th>Баллы_по_предмету</th>\n",
       "      <th>Вес</th>\n",
       "      <th>Место_на_WorldSkills</th>\n",
       "    </tr>\n",
       "  </thead>\n",
       "  <tbody>\n",
       "    <tr>\n",
       "      <th>0</th>\n",
       "      <td>Сидоров</td>\n",
       "      <td>1</td>\n",
       "      <td>&lt;NA&gt;</td>\n",
       "      <td>84.0</td>\n",
       "      <td>1</td>\n",
       "    </tr>\n",
       "    <tr>\n",
       "      <th>1</th>\n",
       "      <td>Козловский</td>\n",
       "      <td>1</td>\n",
       "      <td>76.0</td>\n",
       "      <td>70.0</td>\n",
       "      <td>3</td>\n",
       "    </tr>\n",
       "    <tr>\n",
       "      <th>2</th>\n",
       "      <td>Петрова</td>\n",
       "      <td>0</td>\n",
       "      <td>61</td>\n",
       "      <td>70.0</td>\n",
       "      <td>-4</td>\n",
       "    </tr>\n",
       "    <tr>\n",
       "      <th>3</th>\n",
       "      <td>Казаков</td>\n",
       "      <td>1</td>\n",
       "      <td>76.0</td>\n",
       "      <td>56.0</td>\n",
       "      <td>2</td>\n",
       "    </tr>\n",
       "  </tbody>\n",
       "</table>\n",
       "</div>"
      ],
      "text/plain": [
       "      Студент Пол Баллы_по_предмету   Вес  Место_на_WorldSkills\n",
       "0     Сидоров   1              <NA>  84.0                     1\n",
       "1  Козловский   1              76.0  70.0                     3\n",
       "2     Петрова   0                61  70.0                    -4\n",
       "3     Казаков   1              76.0  56.0                     2"
      ]
     },
     "execution_count": 185,
     "metadata": {},
     "output_type": "execute_result"
    }
   ],
   "source": [
    "# Вес считаем по среднему значению\n",
    "mean_weight = df_base.Вес[(df_base.Вес < 100)].mean()\n",
    "index = df_base[df_base.Вес == 649].index[0]\n",
    "\n",
    "df.at[index, 'Вес'] = mean_weight\n",
    "df"
   ]
  },
  {
   "cell_type": "code",
   "execution_count": 186,
   "id": "2c3e6642-304b-4fc3-8fbc-a65ed49c7488",
   "metadata": {},
   "outputs": [
    {
     "data": {
      "text/html": [
       "<div>\n",
       "<style scoped>\n",
       "    .dataframe tbody tr th:only-of-type {\n",
       "        vertical-align: middle;\n",
       "    }\n",
       "\n",
       "    .dataframe tbody tr th {\n",
       "        vertical-align: top;\n",
       "    }\n",
       "\n",
       "    .dataframe thead th {\n",
       "        text-align: right;\n",
       "    }\n",
       "</style>\n",
       "<table border=\"1\" class=\"dataframe\">\n",
       "  <thead>\n",
       "    <tr style=\"text-align: right;\">\n",
       "      <th></th>\n",
       "      <th>Студент</th>\n",
       "      <th>Пол</th>\n",
       "      <th>Баллы_по_предмету</th>\n",
       "      <th>Вес</th>\n",
       "      <th>Место_на_WorldSkills</th>\n",
       "    </tr>\n",
       "  </thead>\n",
       "  <tbody>\n",
       "    <tr>\n",
       "      <th>0</th>\n",
       "      <td>Сидоров</td>\n",
       "      <td>1</td>\n",
       "      <td>&lt;NA&gt;</td>\n",
       "      <td>84.0</td>\n",
       "      <td>1</td>\n",
       "    </tr>\n",
       "    <tr>\n",
       "      <th>1</th>\n",
       "      <td>Козловский</td>\n",
       "      <td>1</td>\n",
       "      <td>76.0</td>\n",
       "      <td>70.0</td>\n",
       "      <td>3</td>\n",
       "    </tr>\n",
       "    <tr>\n",
       "      <th>2</th>\n",
       "      <td>Петрова</td>\n",
       "      <td>0</td>\n",
       "      <td>61</td>\n",
       "      <td>70.0</td>\n",
       "      <td>4</td>\n",
       "    </tr>\n",
       "    <tr>\n",
       "      <th>3</th>\n",
       "      <td>Казаков</td>\n",
       "      <td>1</td>\n",
       "      <td>76.0</td>\n",
       "      <td>56.0</td>\n",
       "      <td>2</td>\n",
       "    </tr>\n",
       "  </tbody>\n",
       "</table>\n",
       "</div>"
      ],
      "text/plain": [
       "      Студент Пол Баллы_по_предмету   Вес  Место_на_WorldSkills\n",
       "0     Сидоров   1              <NA>  84.0                     1\n",
       "1  Козловский   1              76.0  70.0                     3\n",
       "2     Петрова   0                61  70.0                     4\n",
       "3     Казаков   1              76.0  56.0                     2"
      ]
     },
     "execution_count": 186,
     "metadata": {},
     "output_type": "execute_result"
    }
   ],
   "source": [
    "# делаем abs для места на соревновании\n",
    "import numpy as np\n",
    "\n",
    "df.Место_на_WorldSkills = np.abs(df.Место_на_WorldSkills.to_numpy())\n",
    "df"
   ]
  },
  {
   "cell_type": "markdown",
   "id": "af30db7f-a3d2-4a85-a955-c8e60c90f28f",
   "metadata": {},
   "source": [
    "### КК"
   ]
  },
  {
   "cell_type": "markdown",
   "id": "521e1ac9-0b63-45e1-b9bf-14b915cedd61",
   "metadata": {},
   "source": [
    "Для восстановления значения с помощью КК, нужно придумать формулу, и к счастью такая есть:\n",
    "\n",
    "$X(A)$ - значение признака $X$ объекта $A$\n",
    "\n",
    "$\\bar X$ - среднее значение признака X\n",
    "\n",
    "определить $ X(A) $ по столобцам признакам $ X_1, X_2, ..., X_n $\n",
    "\n",
    "$ X(A) = \\bar X + { \\displaystyle\\sum_{i=1}^{n} r(X, X_i) * (X_i(A) - \\bar X_i) \\over \\displaystyle\\sum_{i=1}^{n} |r(X, X_i)|   }   $\n",
    "\n",
    "Примечание:\n",
    "1) нормировать не обязтаельно, тк КК уже подразумевает под собой номирование\n",
    "2) рассчеты (средних и корреляций) происходят **без учета строки, которую пытаемся найти**\n",
    "3) чем сильнее КК, тем больший вклад производит переменная. То есть, если корреляции нет, то можно не использовать"
   ]
  },
  {
   "cell_type": "code",
   "execution_count": 8,
   "id": "9b5cbcc1-f83d-49ce-855b-945bea09e783",
   "metadata": {},
   "outputs": [
    {
     "name": "stdout",
     "output_type": "stream",
     "text": [
      "4\n",
      "   weight  height  age\n",
      "0    68.2   180.4   18\n",
      "1    74.3   176.1   20\n",
      "2    60.3   170.5   21\n",
      "3    40.0   150.0   12\n",
      "4    80.0     NaN   14\n",
      "\n",
      "          weight    height      age\n",
      "weight  1.000000  0.952679  0.38302\n",
      "height  0.952679  1.000000  0.81687\n",
      "age     0.383020  0.816870  1.00000\n",
      "\n",
      "mean weight: 60.7, mean_age: 17.75, mean_height: 169.25\n",
      "weight_height_corr: 0.95, age_height_corr: 0.82\n",
      "\n"
     ]
    },
    {
     "data": {
      "text/html": [
       "<div>\n",
       "<style scoped>\n",
       "    .dataframe tbody tr th:only-of-type {\n",
       "        vertical-align: middle;\n",
       "    }\n",
       "\n",
       "    .dataframe tbody tr th {\n",
       "        vertical-align: top;\n",
       "    }\n",
       "\n",
       "    .dataframe thead th {\n",
       "        text-align: right;\n",
       "    }\n",
       "</style>\n",
       "<table border=\"1\" class=\"dataframe\">\n",
       "  <thead>\n",
       "    <tr style=\"text-align: right;\">\n",
       "      <th></th>\n",
       "      <th>weight</th>\n",
       "      <th>height</th>\n",
       "      <th>age</th>\n",
       "    </tr>\n",
       "  </thead>\n",
       "  <tbody>\n",
       "    <tr>\n",
       "      <th>0</th>\n",
       "      <td>68.2</td>\n",
       "      <td>180.400000</td>\n",
       "      <td>18</td>\n",
       "    </tr>\n",
       "    <tr>\n",
       "      <th>1</th>\n",
       "      <td>74.3</td>\n",
       "      <td>176.100000</td>\n",
       "      <td>20</td>\n",
       "    </tr>\n",
       "    <tr>\n",
       "      <th>2</th>\n",
       "      <td>60.3</td>\n",
       "      <td>170.500000</td>\n",
       "      <td>21</td>\n",
       "    </tr>\n",
       "    <tr>\n",
       "      <th>3</th>\n",
       "      <td>40.0</td>\n",
       "      <td>150.000000</td>\n",
       "      <td>12</td>\n",
       "    </tr>\n",
       "    <tr>\n",
       "      <th>4</th>\n",
       "      <td>80.0</td>\n",
       "      <td>177.909516</td>\n",
       "      <td>14</td>\n",
       "    </tr>\n",
       "  </tbody>\n",
       "</table>\n",
       "</div>"
      ],
      "text/plain": [
       "   weight      height  age\n",
       "0    68.2  180.400000   18\n",
       "1    74.3  176.100000   20\n",
       "2    60.3  170.500000   21\n",
       "3    40.0  150.000000   12\n",
       "4    80.0  177.909516   14"
      ]
     },
     "execution_count": 8,
     "metadata": {},
     "output_type": "execute_result"
    }
   ],
   "source": [
    "# Хотим восстановить баллы по предмету в зависимости от веса (пример не очень, но для примера подойдет)\n",
    "# Нормировать не обязательно, т.к. КК в себе уже нормирует\n",
    "df_corr = pd.DataFrame([[68.2, 180.4, 18], [74.3, 176.1, 20], [60.3, 170.5, 21], [40.0, 150.0, 12], [80.0, None, 14]], columns=['weight', 'height', 'age'])\n",
    "\n",
    "nan_index = df_corr.index[df_corr.height.apply(pd.isna)][0]\n",
    "\n",
    "print(df_corr)\n",
    "print()\n",
    "print(df_corr.corr())\n",
    "\n",
    "mean_weight, mean_age, mean_height = df_corr.dropna().weight.mean(), df_corr.dropna().age.mean(), df_corr.dropna().height.mean()\n",
    "weight_corr, age_corr = df_corr.corr()['height'].iloc[0], df_corr.corr()['height'].iloc[2]\n",
    "print()\n",
    "print(f'mean weight: {mean_weight}, mean_age: {mean_age}, mean_height: {mean_height}')\n",
    "print(f'weight_height_corr: {round(weight_corr, 2)}, age_height_corr: {round(age_corr, 2)}')\n",
    "\n",
    "numerator = weight_corr*(df_corr.weight.iloc[nan_index] - mean_weight) + age_corr * (df_corr.age.iloc[nan_index] - mean_age) # числитель\n",
    "denominator = abs(weight_corr) + abs(age_corr) # знаменатель\n",
    "\n",
    "empty_height = mean_height + (numerator/denominator)\n",
    "\n",
    "df_corr.height.at[nan_index] = empty_height\n",
    "print()\n",
    "df_corr"
   ]
  },
  {
   "cell_type": "markdown",
   "id": "d08c0d2d-cc2a-47fc-b927-92074faee57d",
   "metadata": {
    "tags": []
   },
   "source": [
    "### Восстановление с помощью метрик (Мера близости)"
   ]
  },
  {
   "cell_type": "markdown",
   "id": "4c7f13ac-33f7-4386-851a-40ae272d505e",
   "metadata": {},
   "source": [
    "Метрика - понятие из геометрии, представляет собой функцию любых двух элементов множества, количественно выражающую расстояние между ними, может быть задана для объектов произвольный природы.\n",
    "\n",
    "Задача - найти значение метрики на паре $X$, $Y$, где $X = [x_1,x_2,..,x_n] $, $ Y = [y_1, y_2, ..., y_n] $\n",
    "\n",
    "1. Евклидова метрика (из учбеника по геометрии) $ p(X,Y) = \\sqrt { (x_1 - y_1)^2 + (x_2 - y_2)^2 + ... (x_n - y_n)^2 } $\n",
    "\n",
    "2. [Метрика Манхеттен](https://math.fandom.com/ru/wiki/%D0%A0%D0%B0%D1%81%D1%81%D1%82%D0%BE%D1%8F%D0%BD%D0%B8%D0%B5_%D0%B3%D0%BE%D1%80%D0%BE%D0%B4%D1%81%D0%BA%D0%B8%D1%85_%D0%BA%D0%B2%D0%B0%D1%80%D1%82%D0%B0%D0%BB%D0%BE%D0%B2) $ p(X,Y) = |x_1 - y_1| + |x_2 - y_2| + ... + (x_n - y_n) $\n",
    "\n",
    "3. Max Метрка $ p(X,Y) = max(|x_1 - y_1|, |x_2 - y_2|, ..., |(x_n - y_n)|) $\n",
    "\n",
    "4. [И так далее, желательно почитать](https://towardsdatascience.com/9-distance-measures-in-data-science-918109d069fa)\n",
    "\n",
    "5. Можно придумать свою, но обязательно выполнение свойств\n",
    "\n",
    "**Свойства метрик**\n",
    "- $p(X, X) = 0$, расстояние об объекта до него же самого равно 0\n",
    "- $p(X,Y) = p(Y,X)$, одинаковые точки должны быть равны\n",
    "- $p(X,Y) <= p(X, M) + p(M, Y)$, расстояние от X до Y, должна быть меньше суммы расстояний пройденные через промежуточные точки\n",
    "\n",
    "Как использовать метрики?💡\n",
    "\n",
    "Необходимо рассчитать расстояние от $X$ до других объектов, чтобы найти наиболее близкие к $X$ объекты.\n",
    "Тогда значение признака $x_k$ объекта $X$ на основе учета близости похожих объектов может быть вычислен следующим образом: \n",
    "\n",
    "1. Исключаем из рассмотрения столбец из с признаком $k$ \n",
    "2. Найдем расстояние от $X$ до остальных объектов $p(X, X_1)$, $p(X, X_2)$, ..., $p(X, X_n)$\n",
    "3. Пусть значения признака $k$ Для объектов $X_1, X_2, ... X_n$ равны $P(X_1)$, $P(X_2)$, ..., $P(X_n)$\n",
    "\n",
    "Общая Формула вычисления значения свойства по наиболее близкому в смысле выбранной метрики $ p(X,Y)$ наблюдению:\n",
    "\n",
    "$ x_k = \\frac{1}{ \\sum_\\limits{i=1}^{m} \\frac {1} {p(X, X_i)} } ( \\sum_\\limits{i=1}^{m}{\\frac{x_k}{p(X,X_i)}} ) $\n",
    "\n",
    "\n",
    "**Важное примечание, перед использованием данных методов, необходимо провести нормирование см. Замечание об использованиях метрик**"
   ]
  },
  {
   "cell_type": "code",
   "execution_count": 188,
   "id": "157b8e1c-6dec-4979-bb34-8d0d765f3af8",
   "metadata": {},
   "outputs": [
    {
     "data": {
      "text/html": [
       "<div>\n",
       "<style scoped>\n",
       "    .dataframe tbody tr th:only-of-type {\n",
       "        vertical-align: middle;\n",
       "    }\n",
       "\n",
       "    .dataframe tbody tr th {\n",
       "        vertical-align: top;\n",
       "    }\n",
       "\n",
       "    .dataframe thead th {\n",
       "        text-align: right;\n",
       "    }\n",
       "</style>\n",
       "<table border=\"1\" class=\"dataframe\">\n",
       "  <thead>\n",
       "    <tr style=\"text-align: right;\">\n",
       "      <th></th>\n",
       "      <th>Студент</th>\n",
       "      <th>Пол</th>\n",
       "      <th>Баллы_по_предмету</th>\n",
       "      <th>Вес</th>\n",
       "      <th>Место_на_WorldSkills</th>\n",
       "    </tr>\n",
       "  </thead>\n",
       "  <tbody>\n",
       "    <tr>\n",
       "      <th>0</th>\n",
       "      <td>Сидоров</td>\n",
       "      <td>1</td>\n",
       "      <td>&lt;NA&gt;</td>\n",
       "      <td>84.0</td>\n",
       "      <td>1</td>\n",
       "    </tr>\n",
       "    <tr>\n",
       "      <th>1</th>\n",
       "      <td>Козловский</td>\n",
       "      <td>1</td>\n",
       "      <td>76.0</td>\n",
       "      <td>70.0</td>\n",
       "      <td>3</td>\n",
       "    </tr>\n",
       "    <tr>\n",
       "      <th>2</th>\n",
       "      <td>Петрова</td>\n",
       "      <td>0</td>\n",
       "      <td>61</td>\n",
       "      <td>70.0</td>\n",
       "      <td>4</td>\n",
       "    </tr>\n",
       "    <tr>\n",
       "      <th>3</th>\n",
       "      <td>Казаков</td>\n",
       "      <td>1</td>\n",
       "      <td>76.0</td>\n",
       "      <td>56.0</td>\n",
       "      <td>2</td>\n",
       "    </tr>\n",
       "  </tbody>\n",
       "</table>\n",
       "</div>"
      ],
      "text/plain": [
       "      Студент Пол Баллы_по_предмету   Вес  Место_на_WorldSkills\n",
       "0     Сидоров   1              <NA>  84.0                     1\n",
       "1  Козловский   1              76.0  70.0                     3\n",
       "2     Петрова   0                61  70.0                     4\n",
       "3     Казаков   1              76.0  56.0                     2"
      ]
     },
     "execution_count": 188,
     "metadata": {},
     "output_type": "execute_result"
    }
   ],
   "source": [
    "import math \n",
    "import numpy as np\n",
    "\n",
    "def calc_metric(sample1: np.array, sample2: np.array, formula: str) -> float:\n",
    "\n",
    "    fn = {\n",
    "        'euclid': lambda : np.sqrt(np.sum(np.square(sample1 - sample2))),\n",
    "        'manhattan': lambda : np.sum(np.abs(sample1 - sample2)),\n",
    "        'max': lambda : np.max(np.abs(sample1 - sample2))\n",
    "    }\n",
    "\n",
    "        \n",
    "    return fn[formula]()\n",
    "\n",
    "df"
   ]
  },
  {
   "cell_type": "code",
   "execution_count": 189,
   "id": "7b7a30d1-d180-469f-81e2-00b336195c04",
   "metadata": {},
   "outputs": [
    {
     "name": "stdout",
     "output_type": "stream",
     "text": [
      "metric: 14.142135623730951\n",
      "metric: 14.352700094407323\n",
      "metric: 28.0178514522438\n"
     ]
    }
   ],
   "source": [
    "# Массив коэфициентов расстояний объектов\n",
    "metrics_result = []\n",
    "\n",
    "df_test = df[df.columns[[1,3,4]]]\n",
    "\n",
    "x = df_test.loc[df.Баллы_по_предмету.isnull()].to_numpy()\n",
    "\n",
    "for columns, values in df_test[~df.Баллы_по_предмету.isnull()].iterrows():\n",
    "    x2 = values.to_numpy()\n",
    "    metric_value = calc_metric(x, x2, 'euclid')\n",
    "    metrics_result.append(metric_value)\n",
    "    print('metric:', metric_value)\n",
    "    \n",
    "values = df[~df.Баллы_по_предмету.isnull()].Баллы_по_предмету.to_numpy()\n",
    "metrics_result = np.array(metrics_result)\n",
    "\n",
    "normal = 1 / np.sum(1 / metrics_result) # коэфициент нормализации, нужен т.к. если расстояние близкое - то значение большое, иначе малое\n",
    "\n",
    "score = np.sum(np.divide(values, metrics_result)) * normal # вычисляем результат\n"
   ]
  },
  {
   "cell_type": "code",
   "execution_count": 190,
   "id": "456306ab-7b9d-4cbd-ac92-e0c7e7ac6d21",
   "metadata": {},
   "outputs": [
    {
     "data": {
      "text/html": [
       "<div>\n",
       "<style scoped>\n",
       "    .dataframe tbody tr th:only-of-type {\n",
       "        vertical-align: middle;\n",
       "    }\n",
       "\n",
       "    .dataframe tbody tr th {\n",
       "        vertical-align: top;\n",
       "    }\n",
       "\n",
       "    .dataframe thead th {\n",
       "        text-align: right;\n",
       "    }\n",
       "</style>\n",
       "<table border=\"1\" class=\"dataframe\">\n",
       "  <thead>\n",
       "    <tr style=\"text-align: right;\">\n",
       "      <th></th>\n",
       "      <th>Студент</th>\n",
       "      <th>Пол</th>\n",
       "      <th>Баллы_по_предмету</th>\n",
       "      <th>Вес</th>\n",
       "      <th>Место_на_WorldSkills</th>\n",
       "    </tr>\n",
       "  </thead>\n",
       "  <tbody>\n",
       "    <tr>\n",
       "      <th>0</th>\n",
       "      <td>Сидоров</td>\n",
       "      <td>1</td>\n",
       "      <td>70.064481</td>\n",
       "      <td>84.0</td>\n",
       "      <td>1</td>\n",
       "    </tr>\n",
       "    <tr>\n",
       "      <th>1</th>\n",
       "      <td>Козловский</td>\n",
       "      <td>1</td>\n",
       "      <td>76.0</td>\n",
       "      <td>70.0</td>\n",
       "      <td>3</td>\n",
       "    </tr>\n",
       "    <tr>\n",
       "      <th>2</th>\n",
       "      <td>Петрова</td>\n",
       "      <td>0</td>\n",
       "      <td>61</td>\n",
       "      <td>70.0</td>\n",
       "      <td>4</td>\n",
       "    </tr>\n",
       "    <tr>\n",
       "      <th>3</th>\n",
       "      <td>Казаков</td>\n",
       "      <td>1</td>\n",
       "      <td>76.0</td>\n",
       "      <td>56.0</td>\n",
       "      <td>2</td>\n",
       "    </tr>\n",
       "  </tbody>\n",
       "</table>\n",
       "</div>"
      ],
      "text/plain": [
       "      Студент Пол Баллы_по_предмету   Вес  Место_на_WorldSkills\n",
       "0     Сидоров   1         70.064481  84.0                     1\n",
       "1  Козловский   1              76.0  70.0                     3\n",
       "2     Петрова   0                61  70.0                     4\n",
       "3     Казаков   1              76.0  56.0                     2"
      ]
     },
     "execution_count": 190,
     "metadata": {},
     "output_type": "execute_result"
    }
   ],
   "source": [
    "df_copied = df.copy()\n",
    "\n",
    "df_copied.at[0, 'Баллы_по_предмету'] = score\n",
    "df_copied"
   ]
  },
  {
   "cell_type": "markdown",
   "id": "4062524c-1c4f-44b9-98e5-71245b089e51",
   "metadata": {},
   "source": [
    "Вообщем обработка пропусков это большая сложная тема, нет конкретно четкой методики, как поступить в той или иной ситуации.\n",
    "\n",
    "**[Дополнительно почитать, как можно обработать пропуски](https://towardsdatascience.com/7-ways-to-handle-missing-values-in-machine-learning-1a6326adf79e)**"
   ]
  },
  {
   "cell_type": "markdown",
   "id": "5ee25398-a254-4254-af87-47af05773a0d",
   "metadata": {
    "tags": []
   },
   "source": [
    "### Замечание об использовании метрик"
   ]
  },
  {
   "cell_type": "markdown",
   "id": "5f975985-e991-4434-9e7b-3a48f4ab389b",
   "metadata": {},
   "source": [
    "Например (таблица роста и веса)"
   ]
  },
  {
   "cell_type": "code",
   "execution_count": 191,
   "id": "1a85dc6f-93c9-485c-b182-0f78827937d3",
   "metadata": {},
   "outputs": [
    {
     "data": {
      "text/html": [
       "<div>\n",
       "<style scoped>\n",
       "    .dataframe tbody tr th:only-of-type {\n",
       "        vertical-align: middle;\n",
       "    }\n",
       "\n",
       "    .dataframe tbody tr th {\n",
       "        vertical-align: top;\n",
       "    }\n",
       "\n",
       "    .dataframe thead th {\n",
       "        text-align: right;\n",
       "    }\n",
       "</style>\n",
       "<table border=\"1\" class=\"dataframe\">\n",
       "  <thead>\n",
       "    <tr style=\"text-align: right;\">\n",
       "      <th></th>\n",
       "      <th>Вес</th>\n",
       "      <th>Рост(м)</th>\n",
       "    </tr>\n",
       "  </thead>\n",
       "  <tbody>\n",
       "    <tr>\n",
       "      <th>0</th>\n",
       "      <td>61</td>\n",
       "      <td>1.78</td>\n",
       "    </tr>\n",
       "    <tr>\n",
       "      <th>1</th>\n",
       "      <td>65</td>\n",
       "      <td>1.79</td>\n",
       "    </tr>\n",
       "    <tr>\n",
       "      <th>2</th>\n",
       "      <td>70</td>\n",
       "      <td>1.60</td>\n",
       "    </tr>\n",
       "  </tbody>\n",
       "</table>\n",
       "</div>"
      ],
      "text/plain": [
       "   Вес  Рост(м)\n",
       "0   61     1.78\n",
       "1   65     1.79\n",
       "2   70     1.60"
      ]
     },
     "execution_count": 191,
     "metadata": {},
     "output_type": "execute_result"
    }
   ],
   "source": [
    "df_example = pd.DataFrame(\n",
    "    [\n",
    "        [61, 1.78],\n",
    "        [65, 1.79],\n",
    "        [70, 1.6]\n",
    "    ],\n",
    "    columns=['Вес', 'Рост(м)']\n",
    ")\n",
    "\n",
    "df_example"
   ]
  },
  {
   "cell_type": "markdown",
   "id": "798424a3-f60d-4245-a575-40afa38de644",
   "metadata": {},
   "source": [
    "Когда мы будем вычислять разницу в весе - получим большие значения, а когда в росте - слишком маленькие, фактически, рост будет проигнорирован (примером выше является пол и место).\n",
    "\n",
    "Это происходит из-за разницы в масштабах и приведет к неадекватной оценке. **Данное понятие относится и к остальным методам, которые будут рассмотреты дальше**\n",
    "В таком случае приходит новое понятие - нормирование.\n",
    "\n",
    "Способы нормирования\n",
    "1. MinMaxScale. $x'_i = {  { {x_i} - min{x_i} } \\over {max{x_i} - min{x_i} } } $\n",
    "\n",
    "2. Стандартизация (ср. значение и отклонение будут равны 0, 1 соответственно). $x'_i = { {x_i - \\bar{x}} \\over s }$, где s - отклонение. В практике более станадртный способ\n",
    "\n",
    "3. Разлиные пребразования перед нормировкой (например применить логарифм). Когда оправдано? Когда есть например такая последовательность [1, 10, 100, 1000, 10000, ..., n]\n",
    "\n",
    "в skelarn все есть! Вернемся к предыдущей таблице"
   ]
  },
  {
   "cell_type": "code",
   "execution_count": 192,
   "id": "fabe703a-1510-40af-9c54-dc0109bb979d",
   "metadata": {},
   "outputs": [],
   "source": [
    "from sklearn.preprocessing import MinMaxScaler, StandardScaler"
   ]
  },
  {
   "cell_type": "code",
   "execution_count": 193,
   "id": "96c55cbd-6d5a-4040-bd6a-8c45b9546076",
   "metadata": {},
   "outputs": [
    {
     "name": "stdout",
     "output_type": "stream",
     "text": [
      "original:   [84. 70. 70. 56.]\n",
      "processed:  [[1. ]\n",
      " [0.5]\n",
      " [0.5]\n",
      " [0. ]]\n"
     ]
    }
   ],
   "source": [
    "# при таком способе минимальное значение станет 0, максимальное 1\n",
    "df_copied = df_copied\n",
    "\n",
    "weight = MinMaxScaler().fit_transform(df_copied.Вес.to_numpy().reshape(-1, 1))\n",
    "print('original:  ', df_copied.Вес.to_numpy())\n",
    "print('processed: ', weight)"
   ]
  },
  {
   "cell_type": "code",
   "execution_count": 194,
   "id": "d7357982-68d0-41c0-8d85-730129f64465",
   "metadata": {},
   "outputs": [
    {
     "name": "stdout",
     "output_type": "stream",
     "text": [
      "original:   [84. 70. 70. 56.]\n",
      "processed:  [[ 1.41421356]\n",
      " [ 0.        ]\n",
      " [ 0.        ]\n",
      " [-1.41421356]]\n"
     ]
    }
   ],
   "source": [
    "weight = StandardScaler().fit_transform(df_copied.Вес.to_numpy().reshape(-1, 1))\n",
    "print('original:  ', df_copied.Вес.to_numpy())\n",
    "print('processed: ', weight)\n",
    "\n",
    "df_copied.Вес = weight"
   ]
  },
  {
   "cell_type": "code",
   "execution_count": 195,
   "id": "2643a416-6e55-473c-beff-9ce5b927529f",
   "metadata": {},
   "outputs": [
    {
     "name": "stdout",
     "output_type": "stream",
     "text": [
      "original:   [70.06448107928277 76.0 61 76.0]\n",
      "processed:  [[-0.11432733]\n",
      " [ 0.85282505]\n",
      " [-1.59132277]\n",
      " [ 0.85282505]]\n"
     ]
    },
    {
     "data": {
      "text/plain": [
       "0    70.064481\n",
       "1         76.0\n",
       "2           61\n",
       "3         76.0\n",
       "Name: Баллы_по_предмету, dtype: object"
      ]
     },
     "execution_count": 195,
     "metadata": {},
     "output_type": "execute_result"
    }
   ],
   "source": [
    "estimation = StandardScaler().fit_transform(df_copied.Баллы_по_предмету.to_numpy().reshape(-1, 1))\n",
    "print('original:  ', df_copied.Баллы_по_предмету.to_numpy())\n",
    "print('processed: ', estimation)\n",
    "\n",
    "df_copied.Баллы_по_предмету"
   ]
  },
  {
   "cell_type": "markdown",
   "id": "33c29a6d-1f3c-4a05-8d52-41ff9b716f25",
   "metadata": {},
   "source": [
    "Примечание о номинальных значениях\n",
    "\n",
    "Есть несколько способов обрабортки:\n",
    "1) принимаем, что это числовое значение и занимаемся обаботкой как число (в большинстве случаев является не уместным способ)\n",
    "\n",
    "2) превращаем в отдельные колонки бинарных признаков (one hot encoding) - то что нужно! [get_dummies](https://pandas.pydata.org/docs/reference/api/pandas.get_dummies.html)"
   ]
  },
  {
   "cell_type": "code",
   "execution_count": 196,
   "id": "ab2aeb29-3161-494a-a181-2d309ff1c2c4",
   "metadata": {},
   "outputs": [
    {
     "name": "stdout",
     "output_type": "stream",
     "text": [
      "   1  2  3  4\n",
      "0  1  0  0  0\n",
      "1  0  0  1  0\n",
      "2  0  0  0  1\n",
      "3  0  1  0  0\n",
      "   win_place_1  win_place_2  win_place_3  win_place_4\n",
      "0            1            0            0            0\n",
      "1            0            0            1            0\n",
      "2            0            0            0            1\n",
      "3            0            1            0            0\n"
     ]
    }
   ],
   "source": [
    "# Примечание о категориальных значениям\n",
    "import pandas as pd\n",
    "win_place_series = pd.get_dummies(df_copied.Место_на_WorldSkills)\n",
    "print(win_place_series) # получаем колонки с каждым местом, колонкой является место, а значением 1 соотвествует месту соответсвующей колонки\n",
    "\n",
    "win_place_series = pd.get_dummies(df_copied.Место_на_WorldSkills, prefix='win_place') # с префиксом работать удобнее\n",
    "print(win_place_series)\n",
    "\n",
    "df_copied = pd.concat([df_copied,win_place_series], axis=1).drop('Место_на_WorldSkills', axis=1)"
   ]
  },
  {
   "cell_type": "code",
   "execution_count": 197,
   "id": "5c0c44e7-8522-4d46-b570-38facf51cc32",
   "metadata": {},
   "outputs": [
    {
     "data": {
      "text/html": [
       "<div>\n",
       "<style scoped>\n",
       "    .dataframe tbody tr th:only-of-type {\n",
       "        vertical-align: middle;\n",
       "    }\n",
       "\n",
       "    .dataframe tbody tr th {\n",
       "        vertical-align: top;\n",
       "    }\n",
       "\n",
       "    .dataframe thead th {\n",
       "        text-align: right;\n",
       "    }\n",
       "</style>\n",
       "<table border=\"1\" class=\"dataframe\">\n",
       "  <thead>\n",
       "    <tr style=\"text-align: right;\">\n",
       "      <th></th>\n",
       "      <th>Студент</th>\n",
       "      <th>Пол</th>\n",
       "      <th>Баллы_по_предмету</th>\n",
       "      <th>Вес</th>\n",
       "      <th>win_place_1</th>\n",
       "      <th>win_place_2</th>\n",
       "      <th>win_place_3</th>\n",
       "      <th>win_place_4</th>\n",
       "    </tr>\n",
       "  </thead>\n",
       "  <tbody>\n",
       "    <tr>\n",
       "      <th>0</th>\n",
       "      <td>Сидоров</td>\n",
       "      <td>1</td>\n",
       "      <td>70.064481</td>\n",
       "      <td>1.414214</td>\n",
       "      <td>1</td>\n",
       "      <td>0</td>\n",
       "      <td>0</td>\n",
       "      <td>0</td>\n",
       "    </tr>\n",
       "    <tr>\n",
       "      <th>1</th>\n",
       "      <td>Козловский</td>\n",
       "      <td>1</td>\n",
       "      <td>76.0</td>\n",
       "      <td>0.000000</td>\n",
       "      <td>0</td>\n",
       "      <td>0</td>\n",
       "      <td>1</td>\n",
       "      <td>0</td>\n",
       "    </tr>\n",
       "    <tr>\n",
       "      <th>2</th>\n",
       "      <td>Петрова</td>\n",
       "      <td>0</td>\n",
       "      <td>61</td>\n",
       "      <td>0.000000</td>\n",
       "      <td>0</td>\n",
       "      <td>0</td>\n",
       "      <td>0</td>\n",
       "      <td>1</td>\n",
       "    </tr>\n",
       "    <tr>\n",
       "      <th>3</th>\n",
       "      <td>Казаков</td>\n",
       "      <td>1</td>\n",
       "      <td>76.0</td>\n",
       "      <td>-1.414214</td>\n",
       "      <td>0</td>\n",
       "      <td>1</td>\n",
       "      <td>0</td>\n",
       "      <td>0</td>\n",
       "    </tr>\n",
       "  </tbody>\n",
       "</table>\n",
       "</div>"
      ],
      "text/plain": [
       "      Студент Пол Баллы_по_предмету       Вес  win_place_1  win_place_2  \\\n",
       "0     Сидоров   1         70.064481  1.414214            1            0   \n",
       "1  Козловский   1              76.0  0.000000            0            0   \n",
       "2     Петрова   0                61  0.000000            0            0   \n",
       "3     Казаков   1              76.0 -1.414214            0            1   \n",
       "\n",
       "   win_place_3  win_place_4  \n",
       "0            0            0  \n",
       "1            1            0  \n",
       "2            0            1  \n",
       "3            0            0  "
      ]
     },
     "execution_count": 197,
     "metadata": {},
     "output_type": "execute_result"
    }
   ],
   "source": [
    "df_copied"
   ]
  },
  {
   "cell_type": "markdown",
   "id": "00e39c9e-1d55-4d36-b5a9-ddc6e3f91727",
   "metadata": {},
   "source": [
    "**Для большинства методов предобработки, необходимо привести признаки в одниаковую плоскость!!!**"
   ]
  },
  {
   "cell_type": "code",
   "execution_count": 198,
   "id": "293565d0-07c2-4fb9-bb91-f02604db7dcd",
   "metadata": {},
   "outputs": [
    {
     "data": {
      "text/html": [
       "<div>\n",
       "<style scoped>\n",
       "    .dataframe tbody tr th:only-of-type {\n",
       "        vertical-align: middle;\n",
       "    }\n",
       "\n",
       "    .dataframe tbody tr th {\n",
       "        vertical-align: top;\n",
       "    }\n",
       "\n",
       "    .dataframe thead th {\n",
       "        text-align: right;\n",
       "    }\n",
       "</style>\n",
       "<table border=\"1\" class=\"dataframe\">\n",
       "  <thead>\n",
       "    <tr style=\"text-align: right;\">\n",
       "      <th></th>\n",
       "      <th>Студент</th>\n",
       "      <th>Пол</th>\n",
       "      <th>Баллы_по_предмету</th>\n",
       "      <th>Вес</th>\n",
       "      <th>Место_на_WorldSkills</th>\n",
       "    </tr>\n",
       "  </thead>\n",
       "  <tbody>\n",
       "    <tr>\n",
       "      <th>0</th>\n",
       "      <td>Сидоров</td>\n",
       "      <td>1</td>\n",
       "      <td>&lt;NA&gt;</td>\n",
       "      <td>84.0</td>\n",
       "      <td>1</td>\n",
       "    </tr>\n",
       "    <tr>\n",
       "      <th>1</th>\n",
       "      <td>Козловский</td>\n",
       "      <td>1</td>\n",
       "      <td>76.0</td>\n",
       "      <td>70.0</td>\n",
       "      <td>3</td>\n",
       "    </tr>\n",
       "    <tr>\n",
       "      <th>2</th>\n",
       "      <td>Петрова</td>\n",
       "      <td>0</td>\n",
       "      <td>61</td>\n",
       "      <td>70.0</td>\n",
       "      <td>4</td>\n",
       "    </tr>\n",
       "    <tr>\n",
       "      <th>3</th>\n",
       "      <td>Казаков</td>\n",
       "      <td>1</td>\n",
       "      <td>76.0</td>\n",
       "      <td>56.0</td>\n",
       "      <td>2</td>\n",
       "    </tr>\n",
       "  </tbody>\n",
       "</table>\n",
       "</div>"
      ],
      "text/plain": [
       "      Студент Пол Баллы_по_предмету   Вес  Место_на_WorldSkills\n",
       "0     Сидоров   1              <NA>  84.0                     1\n",
       "1  Козловский   1              76.0  70.0                     3\n",
       "2     Петрова   0                61  70.0                     4\n",
       "3     Казаков   1              76.0  56.0                     2"
      ]
     },
     "execution_count": 198,
     "metadata": {},
     "output_type": "execute_result"
    }
   ],
   "source": [
    "#Когда есть пропуски - делаем так\n",
    "df_copied = df.copy()\n",
    "df_copied"
   ]
  },
  {
   "cell_type": "code",
   "execution_count": 199,
   "id": "1c07e77e-31db-48b3-bc37-0de0829f8761",
   "metadata": {},
   "outputs": [],
   "source": [
    "scaler = StandardScaler().fit(df[~df.Баллы_по_предмету.isnull()].Баллы_по_предмету.to_numpy().reshape(-1, 1))"
   ]
  },
  {
   "cell_type": "code",
   "execution_count": 200,
   "id": "43a4b145-afdd-4ee0-8b59-2b4562d08edf",
   "metadata": {},
   "outputs": [],
   "source": [
    "df_copied.Баллы_по_предмету =  df.Баллы_по_предмету.apply(\n",
    "    lambda x: x if pd.isna(x) else scaler.transform(np.array(x).reshape(-1, 1)).reshape(1)[0]\n",
    ")"
   ]
  },
  {
   "cell_type": "code",
   "execution_count": 201,
   "id": "70146b12-1265-4269-b692-e181c4458f48",
   "metadata": {},
   "outputs": [
    {
     "data": {
      "text/html": [
       "<div>\n",
       "<style scoped>\n",
       "    .dataframe tbody tr th:only-of-type {\n",
       "        vertical-align: middle;\n",
       "    }\n",
       "\n",
       "    .dataframe tbody tr th {\n",
       "        vertical-align: top;\n",
       "    }\n",
       "\n",
       "    .dataframe thead th {\n",
       "        text-align: right;\n",
       "    }\n",
       "</style>\n",
       "<table border=\"1\" class=\"dataframe\">\n",
       "  <thead>\n",
       "    <tr style=\"text-align: right;\">\n",
       "      <th></th>\n",
       "      <th>Студент</th>\n",
       "      <th>Пол</th>\n",
       "      <th>Баллы_по_предмету</th>\n",
       "      <th>Вес</th>\n",
       "      <th>Место_на_WorldSkills</th>\n",
       "    </tr>\n",
       "  </thead>\n",
       "  <tbody>\n",
       "    <tr>\n",
       "      <th>0</th>\n",
       "      <td>Сидоров</td>\n",
       "      <td>1</td>\n",
       "      <td>&lt;NA&gt;</td>\n",
       "      <td>84.0</td>\n",
       "      <td>1</td>\n",
       "    </tr>\n",
       "    <tr>\n",
       "      <th>1</th>\n",
       "      <td>Козловский</td>\n",
       "      <td>1</td>\n",
       "      <td>0.707107</td>\n",
       "      <td>70.0</td>\n",
       "      <td>3</td>\n",
       "    </tr>\n",
       "    <tr>\n",
       "      <th>2</th>\n",
       "      <td>Петрова</td>\n",
       "      <td>0</td>\n",
       "      <td>-1.414214</td>\n",
       "      <td>70.0</td>\n",
       "      <td>4</td>\n",
       "    </tr>\n",
       "    <tr>\n",
       "      <th>3</th>\n",
       "      <td>Казаков</td>\n",
       "      <td>1</td>\n",
       "      <td>0.707107</td>\n",
       "      <td>56.0</td>\n",
       "      <td>2</td>\n",
       "    </tr>\n",
       "  </tbody>\n",
       "</table>\n",
       "</div>"
      ],
      "text/plain": [
       "      Студент Пол Баллы_по_предмету   Вес  Место_на_WorldSkills\n",
       "0     Сидоров   1              <NA>  84.0                     1\n",
       "1  Козловский   1          0.707107  70.0                     3\n",
       "2     Петрова   0         -1.414214  70.0                     4\n",
       "3     Казаков   1          0.707107  56.0                     2"
      ]
     },
     "execution_count": 201,
     "metadata": {},
     "output_type": "execute_result"
    }
   ],
   "source": [
    "df_copied"
   ]
  },
  {
   "cell_type": "code",
   "execution_count": null,
   "id": "de3548f3-1739-4997-9b4a-a8a6076fed78",
   "metadata": {},
   "outputs": [],
   "source": []
  }
 ],
 "metadata": {
  "kernelspec": {
   "display_name": "Python 3 (ipykernel)",
   "language": "python",
   "name": "python3"
  },
  "language_info": {
   "codemirror_mode": {
    "name": "ipython",
    "version": 3
   },
   "file_extension": ".py",
   "mimetype": "text/x-python",
   "name": "python",
   "nbconvert_exporter": "python",
   "pygments_lexer": "ipython3",
   "version": "3.9.13"
  }
 },
 "nbformat": 4,
 "nbformat_minor": 5
}
